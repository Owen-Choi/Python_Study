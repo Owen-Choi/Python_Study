{
 "cells": [
  {
   "cell_type": "code",
   "execution_count": 50,
   "metadata": {
    "collapsed": true
   },
   "outputs": [],
   "source": [
    "import pandas as pd\n",
    "import numpy as np\n",
    "import math\n",
    "\n",
    "# list for distance\n",
    "dist_list = []\n",
    "# list for hyper parameter\n",
    "included = []\n",
    "\n",
    "# dataset preparation\n",
    "dataset = {'HEIGHT' : [158, 158, 158, 160, 160,163, 163, 160, 163, 165, 165, 165, 168, 168, 168, 170, 170, 170],\n",
    "           'WEIGHT' : [58, 59, 63, 59, 60, 60, 61, 64, 64, 61, 62, 65, 62, 63, 66, 63, 64, 68],\n",
    "           'T SHIRT SIZE' : ['M', 'M', 'M', 'M', 'M', 'M', 'M', 'L', 'L','L', 'L', 'L', 'L', 'L', 'L', 'L', 'L', 'L']}\n",
    "\n",
    "data = pd.DataFrame(dataset)"
   ]
  },
  {
   "cell_type": "code",
   "execution_count": 51,
   "outputs": [],
   "source": [
    "# function for calculating distance\n",
    "def getDist(index_param, point2) :\n",
    "    temp_dist = math.sqrt(math.pow(data.loc[index_param, 'HEIGHT'] - point2['HEIGHT'],2)\n",
    "                 + (math.pow(data.loc[index_param, 'WEIGHT'] - point2['WEIGHT'],2)))\n",
    "    dist_list.append(temp_dist)\n",
    "\n",
    "# function for finding points that is in the boundary of hyper parameter\n",
    "def find_nearest(hyperParam) :\n",
    "    for i in range(len(data)) :\n",
    "        if(i < hyperParam) :\n",
    "            included.append(data.loc[i, 'T SHIRT SIZE'])\n",
    "        else :\n",
    "            return\n",
    "\n",
    "# function for prediction\n",
    "def count_size() :\n",
    "    Mcount = 0\n",
    "    Lcount = 0\n",
    "    for i in range(len(included)) :\n",
    "        if included[i] == 'M' :\n",
    "            Mcount += 1\n",
    "        elif included[i] == 'L' :\n",
    "            Lcount += 1\n",
    "    if(Mcount > Lcount) :\n",
    "        print(\"new data's size is M\")\n",
    "    elif(Mcount < Lcount) :\n",
    "        print(\"new data's size is L\")\n",
    "    else :\n",
    "        print(\"size is equal\")"
   ],
   "metadata": {
    "collapsed": false,
    "pycharm": {
     "name": "#%%\n"
    }
   }
  },
  {
   "cell_type": "code",
   "execution_count": 52,
   "outputs": [
    {
     "name": "stdout",
     "output_type": "stream",
     "text": [
      "new data's size is M\n"
     ]
    }
   ],
   "source": [
    "input_dict = {'HEIGHT' : 178,\n",
    "              'WEIGHT' : 73}\n",
    "\n",
    "for i in range(len(data)):\n",
    "    getDist(i, input_dict)\n",
    "\n",
    "dist_list = {'DISTANCE' : dist_list}\n",
    "dist_list_df = pd.DataFrame(dist_list)\n",
    "data = pd.concat([data, dist_list_df], axis=1)\n",
    "data.sort_values(by='DISTANCE', axis=0, inplace=True)\n",
    "\n",
    "find_nearest(5)\n",
    "count_size()"
   ],
   "metadata": {
    "collapsed": false,
    "pycharm": {
     "name": "#%%\n"
    }
   }
  },
  {
   "cell_type": "code",
   "execution_count": 53,
   "outputs": [
    {
     "data": {
      "text/plain": "    HEIGHT  WEIGHT T SHIRT SIZE   DISTANCE\n17     170      68            L   9.433981\n16     170      64            L  12.041595\n14     168      66            L  12.206556\n15     170      63            L  12.806248\n13     168      63            L  14.142136\n12     168      62            L  14.866069\n11     165      65            L  15.264338\n10     165      62            L  17.029386\n8      163      64            L  17.492856\n9      165      61            L  17.691806\n6      163      61            M  19.209373\n5      163      60            M  19.849433\n7      160      64            L  20.124612\n4      160      60            M  22.203603\n2      158      63            M  22.360680\n3      160      59            M  22.803509\n1      158      59            M  24.413111\n0      158      58            M  25.000000",
      "text/html": "<div>\n<style scoped>\n    .dataframe tbody tr th:only-of-type {\n        vertical-align: middle;\n    }\n\n    .dataframe tbody tr th {\n        vertical-align: top;\n    }\n\n    .dataframe thead th {\n        text-align: right;\n    }\n</style>\n<table border=\"1\" class=\"dataframe\">\n  <thead>\n    <tr style=\"text-align: right;\">\n      <th></th>\n      <th>HEIGHT</th>\n      <th>WEIGHT</th>\n      <th>T SHIRT SIZE</th>\n      <th>DISTANCE</th>\n    </tr>\n  </thead>\n  <tbody>\n    <tr>\n      <th>17</th>\n      <td>170</td>\n      <td>68</td>\n      <td>L</td>\n      <td>9.433981</td>\n    </tr>\n    <tr>\n      <th>16</th>\n      <td>170</td>\n      <td>64</td>\n      <td>L</td>\n      <td>12.041595</td>\n    </tr>\n    <tr>\n      <th>14</th>\n      <td>168</td>\n      <td>66</td>\n      <td>L</td>\n      <td>12.206556</td>\n    </tr>\n    <tr>\n      <th>15</th>\n      <td>170</td>\n      <td>63</td>\n      <td>L</td>\n      <td>12.806248</td>\n    </tr>\n    <tr>\n      <th>13</th>\n      <td>168</td>\n      <td>63</td>\n      <td>L</td>\n      <td>14.142136</td>\n    </tr>\n    <tr>\n      <th>12</th>\n      <td>168</td>\n      <td>62</td>\n      <td>L</td>\n      <td>14.866069</td>\n    </tr>\n    <tr>\n      <th>11</th>\n      <td>165</td>\n      <td>65</td>\n      <td>L</td>\n      <td>15.264338</td>\n    </tr>\n    <tr>\n      <th>10</th>\n      <td>165</td>\n      <td>62</td>\n      <td>L</td>\n      <td>17.029386</td>\n    </tr>\n    <tr>\n      <th>8</th>\n      <td>163</td>\n      <td>64</td>\n      <td>L</td>\n      <td>17.492856</td>\n    </tr>\n    <tr>\n      <th>9</th>\n      <td>165</td>\n      <td>61</td>\n      <td>L</td>\n      <td>17.691806</td>\n    </tr>\n    <tr>\n      <th>6</th>\n      <td>163</td>\n      <td>61</td>\n      <td>M</td>\n      <td>19.209373</td>\n    </tr>\n    <tr>\n      <th>5</th>\n      <td>163</td>\n      <td>60</td>\n      <td>M</td>\n      <td>19.849433</td>\n    </tr>\n    <tr>\n      <th>7</th>\n      <td>160</td>\n      <td>64</td>\n      <td>L</td>\n      <td>20.124612</td>\n    </tr>\n    <tr>\n      <th>4</th>\n      <td>160</td>\n      <td>60</td>\n      <td>M</td>\n      <td>22.203603</td>\n    </tr>\n    <tr>\n      <th>2</th>\n      <td>158</td>\n      <td>63</td>\n      <td>M</td>\n      <td>22.360680</td>\n    </tr>\n    <tr>\n      <th>3</th>\n      <td>160</td>\n      <td>59</td>\n      <td>M</td>\n      <td>22.803509</td>\n    </tr>\n    <tr>\n      <th>1</th>\n      <td>158</td>\n      <td>59</td>\n      <td>M</td>\n      <td>24.413111</td>\n    </tr>\n    <tr>\n      <th>0</th>\n      <td>158</td>\n      <td>58</td>\n      <td>M</td>\n      <td>25.000000</td>\n    </tr>\n  </tbody>\n</table>\n</div>"
     },
     "execution_count": 53,
     "metadata": {},
     "output_type": "execute_result"
    }
   ],
   "source": [
    "data"
   ],
   "metadata": {
    "collapsed": false,
    "pycharm": {
     "name": "#%%\n"
    }
   }
  }
 ],
 "metadata": {
  "kernelspec": {
   "display_name": "Python 3",
   "language": "python",
   "name": "python3"
  },
  "language_info": {
   "codemirror_mode": {
    "name": "ipython",
    "version": 2
   },
   "file_extension": ".py",
   "mimetype": "text/x-python",
   "name": "python",
   "nbconvert_exporter": "python",
   "pygments_lexer": "ipython2",
   "version": "2.7.6"
  }
 },
 "nbformat": 4,
 "nbformat_minor": 0
}