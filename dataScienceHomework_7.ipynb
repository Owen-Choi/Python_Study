{
 "cells": [
  {
   "cell_type": "code",
   "execution_count": 15,
   "metadata": {
    "collapsed": true
   },
   "outputs": [
    {
     "data": {
      "text/plain": "<Figure size 432x288 with 1 Axes>",
      "image/png": "[encoded data removed]"
     },
     "metadata": {
      "needs_background": "light"
     },
     "output_type": "display_data"
    }
   ],
   "source": [
    "import pandas as pd\n",
    "import numpy as np\n",
    "import seaborn as sns\n",
    "import matplotlib.pyplot as plt\n",
    "from sklearn.linear_model import LinearRegression\n",
    "col = ['spends', 'income']\n",
    "data = pd.DataFrame([[2400, 41200],\n",
    "                     [2650, 50100],\n",
    "                     [2350, 52000],\n",
    "                     [4950, 66000],\n",
    "                     [3100, 44500],\n",
    "                     [2500, 37700],\n",
    "                     [5106, 73500],\n",
    "                     [3100, 37500],\n",
    "                     [2900, 56700],\n",
    "                     [1750, 35600]], columns=col)\n",
    "\n",
    "linear = LinearRegression()\n",
    "\n",
    "spends = data.loc[:, 'spends']\n",
    "income = data.loc[:, 'income']\n",
    "\n",
    "x = np.array(spends)\n",
    "y = x*16 + 529\n",
    "\n",
    "plt.scatter(spends, income)\n",
    "plt.plot(x,y, color='red')\n",
    "plt.show()"
   ]
  },
  {
   "cell_type": "code",
   "execution_count": null,
   "outputs": [],
   "source": [
    "print(\"# find outlier people\")\n",
    "\n",
    "height = data.loc[:, 'Height (Inches)']\n",
    "weight = data.loc[:, 'Weight (Pounds)']\n",
    "\n",
    "linear_reg = LinearRegression()\n",
    "linear_reg.fit(height.values.reshape(-1,1), weight)\n",
    "\n",
    "px = np.array([height.min() - 1, height.max() + 1])\n",
    "py = linear_reg.predict(px[:, np.newaxis])\n",
    "\n",
    "plt.xlabel('Height (Inches)')\n",
    "plt.ylabel('Weight (Pounds)')\n",
    "plt.title('whole Data')\n",
    "\n",
    "plt.scatter(height, weight)\n",
    "plt.plot(px, py, color='red')\n",
    "plt.show()"
   ],
   "metadata": {
    "collapsed": false,
    "pycharm": {
     "name": "#%%\n"
    }
   }
  }
 ],
 "metadata": {
  "kernelspec": {
   "display_name": "Python 3",
   "language": "python",
   "name": "python3"
  },
  "language_info": {
   "codemirror_mode": {
    "name": "ipython",
    "version": 2
   },
   "file_extension": ".py",
   "mimetype": "text/x-python",
   "name": "python",
   "nbconvert_exporter": "python",
   "pygments_lexer": "ipython2",
   "version": "2.7.6"
  }
 },
 "nbformat": 4,
 "nbformat_minor": 0
}