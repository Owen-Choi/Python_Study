{
 "cells": [
  {
   "cell_type": "code",
   "execution_count": 100,
   "metadata": {
    "collapsed": true
   },
   "outputs": [
    {
     "data": {
      "text/plain": "    District     House Type Income Previous Customer        Outcome\n0   Suburban       Detached   High                No  Not responded\n1   Suburban       Detached   High               Yes  Not responded\n2      Rural       Detached   High                No      Responded\n3      Urban  Semi-detached   High                No      Responded\n4      Urban  Semi-detached    Low                No      Responded\n5      Urban  Semi-detached    Low               Yes  Not responded\n6      Rural  Semi-detached    Low               Yes      Responded\n7   Suburban        Terrace   High                No  Not responded\n8   Suburban  Semi-detached    Low                No      Responded\n9      Urban        Terrace    Low                No      Responded\n10  Suburban        Terrace    Low               Yes      Responded\n11     Rural        Terrace   High               Yes      Responded\n12     Rural       Detached    Low                No      Responded\n13     Urban        Terrace   High               Yes  Not responded",
      "text/html": "<div>\n<style scoped>\n    .dataframe tbody tr th:only-of-type {\n        vertical-align: middle;\n    }\n\n    .dataframe tbody tr th {\n        vertical-align: top;\n    }\n\n    .dataframe thead th {\n        text-align: right;\n    }\n</style>\n<table border=\"1\" class=\"dataframe\">\n  <thead>\n    <tr style=\"text-align: right;\">\n      <th></th>\n      <th>District</th>\n      <th>House Type</th>\n      <th>Income</th>\n      <th>Previous Customer</th>\n      <th>Outcome</th>\n    </tr>\n  </thead>\n  <tbody>\n    <tr>\n      <th>0</th>\n      <td>Suburban</td>\n      <td>Detached</td>\n      <td>High</td>\n      <td>No</td>\n      <td>Not responded</td>\n    </tr>\n    <tr>\n      <th>1</th>\n      <td>Suburban</td>\n      <td>Detached</td>\n      <td>High</td>\n      <td>Yes</td>\n      <td>Not responded</td>\n    </tr>\n    <tr>\n      <th>2</th>\n      <td>Rural</td>\n      <td>Detached</td>\n      <td>High</td>\n      <td>No</td>\n      <td>Responded</td>\n    </tr>\n    <tr>\n      <th>3</th>\n      <td>Urban</td>\n      <td>Semi-detached</td>\n      <td>High</td>\n      <td>No</td>\n      <td>Responded</td>\n    </tr>\n    <tr>\n      <th>4</th>\n      <td>Urban</td>\n      <td>Semi-detached</td>\n      <td>Low</td>\n      <td>No</td>\n      <td>Responded</td>\n    </tr>\n    <tr>\n      <th>5</th>\n      <td>Urban</td>\n      <td>Semi-detached</td>\n      <td>Low</td>\n      <td>Yes</td>\n      <td>Not responded</td>\n    </tr>\n    <tr>\n      <th>6</th>\n      <td>Rural</td>\n      <td>Semi-detached</td>\n      <td>Low</td>\n      <td>Yes</td>\n      <td>Responded</td>\n    </tr>\n    <tr>\n      <th>7</th>\n      <td>Suburban</td>\n      <td>Terrace</td>\n      <td>High</td>\n      <td>No</td>\n      <td>Not responded</td>\n    </tr>\n    <tr>\n      <th>8</th>\n      <td>Suburban</td>\n      <td>Semi-detached</td>\n      <td>Low</td>\n      <td>No</td>\n      <td>Responded</td>\n    </tr>\n    <tr>\n      <th>9</th>\n      <td>Urban</td>\n      <td>Terrace</td>\n      <td>Low</td>\n      <td>No</td>\n      <td>Responded</td>\n    </tr>\n    <tr>\n      <th>10</th>\n      <td>Suburban</td>\n      <td>Terrace</td>\n      <td>Low</td>\n      <td>Yes</td>\n      <td>Responded</td>\n    </tr>\n    <tr>\n      <th>11</th>\n      <td>Rural</td>\n      <td>Terrace</td>\n      <td>High</td>\n      <td>Yes</td>\n      <td>Responded</td>\n    </tr>\n    <tr>\n      <th>12</th>\n      <td>Rural</td>\n      <td>Detached</td>\n      <td>Low</td>\n      <td>No</td>\n      <td>Responded</td>\n    </tr>\n    <tr>\n      <th>13</th>\n      <td>Urban</td>\n      <td>Terrace</td>\n      <td>High</td>\n      <td>Yes</td>\n      <td>Not responded</td>\n    </tr>\n  </tbody>\n</table>\n</div>"
     },
     "execution_count": 100,
     "metadata": {},
     "output_type": "execute_result"
    }
   ],
   "source": [
    "import pandas as pd\n",
    "import numpy as np\n",
    "\n",
    "\n",
    "# dataset preparation\n",
    "dataDict = {'District' : ['Suburban', 'Suburban', 'Rural', 'Urban', 'Urban', 'Urban', 'Rural', 'Suburban', 'Suburban', 'Urban', 'Suburban',\n",
    "                      'Rural', 'Rural', 'Urban'],\n",
    "        'House Type' : ['Detached', 'Detached', 'Detached', 'Semi-detached', 'Semi-detached', 'Semi-detached', 'Semi-detached', 'Terrace',\n",
    "                        'Semi-detached', 'Terrace', 'Terrace', 'Terrace', 'Detached', 'Terrace'],\n",
    "        'Income' : ['High', 'High', 'High', 'High', 'Low', 'Low', 'Low', 'High', 'Low', 'Low', 'Low', 'High', 'Low', 'High'],\n",
    "        'Previous Customer' : ['No', 'Yes', 'No', 'No', 'No', 'Yes', 'Yes', 'No', 'No', 'No', 'Yes', 'Yes', 'No', 'Yes'],\n",
    "        'Outcome' : ['Not responded', 'Not responded', 'Responded', 'Responded', 'Responded', 'Not responded', 'Responded', 'Not responded',\n",
    "                     'Responded','Responded','Responded','Responded','Responded', 'Not responded']}\n",
    "\n",
    "data = pd.DataFrame(dataDict)\n",
    "columns = ['District', 'House Type', 'Income', 'Previous Customer']\n",
    "target = 'Outcome'\n",
    "data"
   ]
  },
  {
   "cell_type": "code",
   "execution_count": 120,
   "outputs": [],
   "source": [
    "# function calculating entropy\n",
    "\n",
    "def entropy(target_col):\n",
    "    element, count = np.unique(target_col, return_counts=True)\n",
    "    entropy = np.sum(\n",
    "        [-(count[i] / np.sum(count)) * np.log2(count[i] / np.sum(count))\n",
    "         for i in range(len(element))])\n",
    "    return entropy\n",
    "\n",
    "# function calculating info gain\n",
    "\n",
    "def infoGain(data, col, target_col):\n",
    "    print(col)\n",
    "    root_entropy = entropy(target_col)\n",
    "    cols, count = np.unique(data[col], return_counts=True)\n",
    "    sub = 0\n",
    "    for i in range(len(cols)):\n",
    "        sub = sub + count[i] * entropy( data.where(data[col] == cols[i]).dropna()[target_col])\n",
    "    sub = sub/len(data[col])\n",
    "    info_gain = root_entropy - sub\n",
    "    return info_gain\n",
    "\n",
    "\n",
    "# function bulding tree\n",
    "\n",
    "def tree_maker(data, features, target_col):\n",
    "    if len(data[target_col].value_counts()) == 1:\n",
    "        return data[target_col].value_counts().index[0]\n",
    "    else:\n",
    "        info_gains = [infoGain(data, i, target_col) for i in features]\n",
    "        index = np.argmax(info_gains)\n",
    "        picked = features[index]\n",
    "        tree = {picked : {}}\n",
    "        features = [i for i in features if i != picked]\n",
    "\n",
    "        for value in np.unique(data[picked]):\n",
    "            sub_data = data.where(data[picked] == value).dropna()\n",
    "            sub_tree = tree_maker(sub_data, features, target_col)\n",
    "            tree[picked][value]= sub_tree\n",
    "    return tree\n",
    "\n"
   ],
   "metadata": {
    "collapsed": false,
    "pycharm": {
     "name": "#%%\n"
    }
   }
  },
  {
   "cell_type": "code",
   "execution_count": 121,
   "outputs": [
    {
     "name": "stdout",
     "output_type": "stream",
     "text": [
      "District\n",
      "House Type\n",
      "Income\n",
      "Previous Customer\n",
      "House Type\n",
      "Income\n",
      "Previous Customer\n",
      "House Type\n",
      "Income\n",
      "Previous Customer\n",
      "{'District': {'Rural': 'Responded', 'Suburban': {'Income': {'High': 'Not responded', 'Low': 'Responded'}}, 'Urban': {'Previous Customer': {'No': 'Responded', 'Yes': 'Not responded'}}}}\n"
     ]
    }
   ],
   "source": [
    "tree = tree_maker(data, columns, target)\n",
    "print(tree)"
   ],
   "metadata": {
    "collapsed": false,
    "pycharm": {
     "name": "#%%\n"
    }
   }
  },
  {
   "cell_type": "code",
   "execution_count": 103,
   "outputs": [],
   "source": [],
   "metadata": {
    "collapsed": false,
    "pycharm": {
     "name": "#%%\n"
    }
   }
  }
 ],
 "metadata": {
  "kernelspec": {
   "display_name": "Python 3",
   "language": "python",
   "name": "python3"
  },
  "language_info": {
   "codemirror_mode": {
    "name": "ipython",
    "version": 2
   },
   "file_extension": ".py",
   "mimetype": "text/x-python",
   "name": "python",
   "nbconvert_exporter": "python",
   "pygments_lexer": "ipython2",
   "version": "2.7.6"
  }
 },
 "nbformat": 4,
 "nbformat_minor": 0
}