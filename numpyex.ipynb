{
 "cells": [
  {
   "cell_type": "code",
   "execution_count": 7,
   "outputs": [
    {
     "name": "stdout",
     "output_type": "stream",
     "text": [
      "[[ 0  1  2  3  4]\n",
      " [ 5  6  7  8  9]\n",
      " [10 11 12 13 14]]\n",
      "[[   0    1    2 ...   97   98   99]\n",
      " [ 100  101  102 ...  197  198  199]\n",
      " [ 200  201  202 ...  297  298  299]\n",
      " ...\n",
      " [9700 9701 9702 ... 9797 9798 9799]\n",
      " [9800 9801 9802 ... 9897 9898 9899]\n",
      " [9900 9901 9902 ... 9997 9998 9999]]\n",
      "[[0. 0. 0. 0.]\n",
      " [0. 0. 0. 0.]\n",
      " [0. 0. 0. 0.]]\n"
     ]
    }
   ],
   "source": [
    "# shape : arange\n",
    "print(np.arange(15).reshape(3,5))\n",
    "print(np.arange(10000).reshape(100,100))    # 사이즈가 너무 클 경우 numpy에서 자동으로 중간을 생략하고 처음과 끝 부분만 보여준다.\n",
    "\n",
    "print(np.zeros((3,4)))"
   ],
   "metadata": {
    "collapsed": false,
    "pycharm": {
     "name": "#%%\n"
    }
   }
  },
  {
   "cell_type": "code",
   "execution_count": 9,
   "outputs": [
    {
     "name": "stdout",
     "output_type": "stream",
     "text": [
      "[10 15 20 25 30]\n",
      "[0.  0.3 0.6 0.9 1.2 1.5 1.8]\n"
     ]
    }
   ],
   "source": [
    "# sequence : arange\n",
    "print(np.arange(10,35,5))\n",
    "print(np.arange(0,2,0.3))"
   ],
   "metadata": {
    "collapsed": false,
    "pycharm": {
     "name": "#%%\n"
    }
   }
  },
  {
   "cell_type": "code",
   "execution_count": 10,
   "outputs": [
    {
     "name": "stdout",
     "output_type": "stream",
     "text": [
      "[0.   0.25 0.5  0.75 1.   1.25 1.5  1.75 2.  ] \n",
      "\n"
     ]
    }
   ],
   "source": [
    "# sequence : linspace\n",
    "\n",
    "print(np.linspace(0,2,9), '\\n')       # 0부터 2까지 9번에 걸쳐 증가 : 즉 0.25씩 증가\n",
    "                                # linspace는 마지막 요소를 포함한다. 즉 2를 포함한다."
   ],
   "metadata": {
    "collapsed": false,
    "pycharm": {
     "name": "#%%\n"
    }
   }
  },
  {
   "cell_type": "code",
   "execution_count": 12,
   "outputs": [
    {
     "name": "stdout",
     "output_type": "stream",
     "text": [
      "[ 0.00000000e+00  6.34239197e-02  1.26592454e-01  1.89251244e-01\n",
      "  2.51147987e-01  3.12033446e-01  3.71662456e-01  4.29794912e-01\n",
      "  4.86196736e-01  5.40640817e-01  5.92907929e-01  6.42787610e-01\n",
      "  6.90079011e-01  7.34591709e-01  7.76146464e-01  8.14575952e-01\n",
      "  8.49725430e-01  8.81453363e-01  9.09631995e-01  9.34147860e-01\n",
      "  9.54902241e-01  9.71811568e-01  9.84807753e-01  9.93838464e-01\n",
      "  9.98867339e-01  9.99874128e-01  9.96854776e-01  9.89821442e-01\n",
      "  9.78802446e-01  9.63842159e-01  9.45000819e-01  9.22354294e-01\n",
      "  8.95993774e-01  8.66025404e-01  8.32569855e-01  7.95761841e-01\n",
      "  7.55749574e-01  7.12694171e-01  6.66769001e-01  6.18158986e-01\n",
      "  5.67059864e-01  5.13677392e-01  4.58226522e-01  4.00930535e-01\n",
      "  3.42020143e-01  2.81732557e-01  2.20310533e-01  1.58001396e-01\n",
      "  9.50560433e-02  3.17279335e-02 -3.17279335e-02 -9.50560433e-02\n",
      " -1.58001396e-01 -2.20310533e-01 -2.81732557e-01 -3.42020143e-01\n",
      " -4.00930535e-01 -4.58226522e-01 -5.13677392e-01 -5.67059864e-01\n",
      " -6.18158986e-01 -6.66769001e-01 -7.12694171e-01 -7.55749574e-01\n",
      " -7.95761841e-01 -8.32569855e-01 -8.66025404e-01 -8.95993774e-01\n",
      " -9.22354294e-01 -9.45000819e-01 -9.63842159e-01 -9.78802446e-01\n",
      " -9.89821442e-01 -9.96854776e-01 -9.99874128e-01 -9.98867339e-01\n",
      " -9.93838464e-01 -9.84807753e-01 -9.71811568e-01 -9.54902241e-01\n",
      " -9.34147860e-01 -9.09631995e-01 -8.81453363e-01 -8.49725430e-01\n",
      " -8.14575952e-01 -7.76146464e-01 -7.34591709e-01 -6.90079011e-01\n",
      " -6.42787610e-01 -5.92907929e-01 -5.40640817e-01 -4.86196736e-01\n",
      " -4.29794912e-01 -3.71662456e-01 -3.12033446e-01 -2.51147987e-01\n",
      " -1.89251244e-01 -1.26592454e-01 -6.34239197e-02 -2.44929360e-16] \n",
      "\n"
     ]
    }
   ],
   "source": [
    "from numpy import pi\n",
    "# linspace의 활용처\n",
    "# linspace의 경우 요소의 개수를 access하기 편한 것 같다.\n",
    "x = np.linspace(0, 2*pi, 100)   #0부터 2pi까지 100개의 요소를 가지는 배열 생성\n",
    "f = np.sin(x)                   #생성한 각가의 배열에 대해서 sin 값을 계산하여 대입\n",
    "print(f, '\\n')                        # 출력"
   ],
   "metadata": {
    "collapsed": false,
    "pycharm": {
     "name": "#%%\n"
    }
   }
  },
  {
   "cell_type": "code",
   "execution_count": 13,
   "outputs": [
    {
     "name": "stdout",
     "output_type": "stream",
     "text": [
      "[20 29 38 47]\n",
      "[0 1 4 9]\n",
      "[ True  True False False] \n",
      "\n"
     ]
    }
   ],
   "source": [
    "# element-wise : minus\n",
    "# np에 대한 연산은 element-wise하게 일어난다.\n",
    "a = np.array([20,30,40,50])\n",
    "b = np.arange(4)\n",
    "c = a - b\n",
    "print(c)\n",
    "print(b**2)\n",
    "print(a<35, '\\n')"
   ],
   "metadata": {
    "collapsed": false,
    "pycharm": {
     "name": "#%%\n"
    }
   }
  },
  {
   "cell_type": "code",
   "execution_count": 16,
   "outputs": [
    {
     "name": "stdout",
     "output_type": "stream",
     "text": [
      "[1.         2.57079633 4.14159265] \n",
      "\n"
     ]
    }
   ],
   "source": [
    "# 서로 다른 데이터타입 간의 연산\n",
    "\n",
    "a = np.ones(3, dtype=np.int32)  # a는 int32 타입\n",
    "b = np.linspace(0,pi,3)         # b는 float64 타입\n",
    "c = a+b                         # 둘을 더하면 더 정밀하고 정확한 데이터 타입으로 연산 결과가 치환된다.\n",
    "print(c, '\\n')\n",
    "d = np.exp(c*1j)                # exp는 exponential의 약자, 오일러 수 e의 x승을 계산해주는 함수\n",
    "                                # 1j를 곱하였기 때문에 d의 데이터 타입은 complex128, 복소수가 된다."
   ],
   "metadata": {
    "collapsed": false,
    "pycharm": {
     "name": "#%%\n"
    }
   }
  },
  {
   "cell_type": "code",
   "execution_count": 17,
   "outputs": [
    {
     "name": "stdout",
     "output_type": "stream",
     "text": [
      "[12 15 18 21]\n",
      "[0 4 8]\n",
      "[[ 0  1  3  6]\n",
      " [ 4  9 15 22]\n",
      " [ 8 17 27 38]] \n",
      "\n"
     ]
    }
   ],
   "source": [
    "# numeric operation with conditions\n",
    "\n",
    "b = np.arange(12).reshape(3,4)\n",
    "print(b.sum(axis=0))            # axis=0, 즉 각 열의 합을 출력한다.\n",
    "print(b.min(axis=1))            # axis=1, 즉 각 행 중 최솟값을 출력한다.\n",
    "print(b.cumsum(axis=1), '\\n')         # 각 행의 왼쪽부터 누적합을 출력한다."
   ],
   "metadata": {
    "collapsed": false,
    "pycharm": {
     "name": "#%%\n"
    }
   }
  },
  {
   "cell_type": "code",
   "execution_count": 18,
   "outputs": [
    {
     "name": "stdout",
     "output_type": "stream",
     "text": [
      "8\n",
      "[ 8 27 64]\n",
      "[-1000     1 -1000    27 -1000   125   216   343   512   729] \n",
      "\n"
     ]
    },
    {
     "data": {
      "text/plain": "array([  729,   512,   343,   216,   125, -1000,    27, -1000,     1,\n       -1000], dtype=int32)"
     },
     "execution_count": 18,
     "metadata": {},
     "output_type": "execute_result"
    }
   ],
   "source": [
    "# indexing, slicing, iterating\n",
    "\n",
    "a = np.arange(10)**3\n",
    "print(a[2])\n",
    "print(a[2:5])                   # slicing : 0부터 시작하니 2,3,4번 인덱스만 자른다.\n",
    "a[:6:2] = -1000                 # 콜론이 앞에 붙으면 앞 인덱스까지 slicing을 하되 뒤 인덱스 만큼 건너뛰어라는 것을 의미\n",
    "                                # 즉 여기에서는 5인덱스까지(6은 미포함이므로) 2칸씩 건너뛰며 슬라이싱하라는 의미.\n",
    "print(a, '\\n')\n",
    "a[ : :-1]                       # 역순으로 출력"
   ],
   "metadata": {
    "collapsed": false,
    "pycharm": {
     "name": "#%%\n"
    }
   }
  },
  {
   "cell_type": "code",
   "execution_count": 20,
   "outputs": [
    {
     "name": "stdout",
     "output_type": "stream",
     "text": [
      "[[ 0  1  2  3]\n",
      " [10 11 12 13]\n",
      " [20 21 22 23]\n",
      " [30 31 32 33]\n",
      " [40 41 42 43]] \n",
      "\n",
      "[ 1 11 21 31 41]\n",
      "[[10 11 12 13]\n",
      " [20 21 22 23]]\n",
      "[40 41 42 43] \n",
      "\n"
     ]
    }
   ],
   "source": [
    "# from function\n",
    "\n",
    "def f(x,y):\n",
    "    return x*10 + y\n",
    "\n",
    "b = np.fromfunction(f,(5,4),dtype=int)  # 출력 결과가 이해가 안갈 수도 있는데, x값은 행의 인덱스, y값은 열의 인덱스라고\n",
    "                                        # 생각하면 이해가 된다. 즉 (2,1)행의 값으로는 2*10 + 1 = 21이 들어간다.\n",
    "print(b, '\\n')\n",
    "\n",
    "print(b[0:5, 1])                        # 행은 0번 index부터 4번 index까지, 열은 1번에 해당하는 요소들을 모두 출력한다.\n",
    "#b[ : , 1] 과 위의 코드는 같은 의미이다.\n",
    "print(b[1:3, : ])                       # 행은 1,2번 index, 모든 열에 해당하는 값을 출력한다. 출력된 값은 2d array이다.\n",
    "print(b[-1], '\\n')                      # 다차원인데 parameter가 하나만 전달된 경우 나머지 parameter들은 모두 :(콜론)이 들어간다.\n",
    "                                        # -1은 가장 끝의 원소를 뜻함."
   ],
   "metadata": {
    "collapsed": false,
    "pycharm": {
     "name": "#%%\n"
    }
   }
  },
  {
   "cell_type": "code",
   "execution_count": 21,
   "outputs": [
    {
     "name": "stdout",
     "output_type": "stream",
     "text": [
      "[0 1 2 3]\n",
      "[10 11 12 13]\n",
      "[20 21 22 23]\n",
      "[30 31 32 33]\n",
      "[40 41 42 43]\n",
      "0\n",
      "1\n",
      "2\n",
      "3\n",
      "10\n",
      "11\n",
      "12\n",
      "13\n",
      "20\n",
      "21\n",
      "22\n",
      "23\n",
      "30\n",
      "31\n",
      "32\n",
      "33\n",
      "40\n",
      "41\n",
      "42\n",
      "43\n"
     ]
    }
   ],
   "source": [
    "# iterator\n",
    "\n",
    "for row in b:                           # 그냥 b로 입력되면 행 단위로 출력하는 것 같다.\n",
    "    print(row)\n",
    "\n",
    "for element in b.flat:\n",
    "    print(element)                      # b.flat으로 입력되면 요소 하나하나를 출력한다."
   ],
   "metadata": {
    "collapsed": false,
    "pycharm": {
     "name": "#%%\n"
    }
   }
  },
  {
   "cell_type": "code",
   "execution_count": 22,
   "outputs": [
    {
     "name": "stdout",
     "output_type": "stream",
     "text": [
      "[[1. 5. 2. 1.]\n",
      " [1. 0. 5. 7.]\n",
      " [9. 7. 1. 0.]]\n",
      "[1. 5. 2. 1. 1. 0. 5. 7. 9. 7. 1. 0.]\n",
      "[1. 5. 2. 1. 1. 0. 5. 7. 9. 7. 1. 0.]\n",
      "[[1. 5.]\n",
      " [2. 1.]\n",
      " [1. 0.]\n",
      " [5. 7.]\n",
      " [9. 7.]\n",
      " [1. 0.]]\n",
      "[[1. 5. 2. 1.]\n",
      " [1. 0. 5. 7.]\n",
      " [9. 7. 1. 0.]]\n"
     ]
    }
   ],
   "source": [
    "# shape\n",
    "\n",
    "a = np.floor(10*np.random.random((3,4)))    # floor는 매개변수로 전달된 값을 반내림? 하는 기능이다.\n",
    "print(a)\n",
    "\n",
    "print(a.ravel())                        # ravel은 array를 평평하게 펴서 return해준다.\n",
    "print(a.flatten())                      # flatten도 마찬가지로 array를 평평하게 펴서 출력해준다.\n",
    "                                        # 둘의 차이는 ravel은 얕은 복사, flatten은 깊은 복사이다. 즉 ravel은 변동사항이 원본 배열에 반영된다.\n",
    "                                        # ravel은 새로운 메모리 공간은 필요 없어서 더 빠르지만 얕은 복사의 특성 상 특수한 경우에만 사용된다.\n",
    "print(a.reshape(6,2))\n",
    "print(a.reshape(3,-1))                  # 꿀팁 : reshape에서 사용되는 -1은 다른 매개변수들을 고려해서 가능한 사이즈를 자동으로 계산해준다."
   ],
   "metadata": {
    "collapsed": false,
    "pycharm": {
     "name": "#%%\n"
    }
   }
  },
  {
   "cell_type": "code",
   "execution_count": 24,
   "outputs": [
    {
     "name": "stdout",
     "output_type": "stream",
     "text": [
      "[[1. 7.]\n",
      " [7. 0.]\n",
      " [1. 8.]\n",
      " [9. 8.]] \n",
      "\n",
      "[[1. 7. 1. 8.]\n",
      " [7. 0. 9. 8.]] \n",
      "\n"
     ]
    }
   ],
   "source": [
    "# stacking arrays\n",
    "# random을 파이썬의 random이랑 헷갈리지 말자. 매개변수 개수 관련 오류가 발생한다.\n",
    "a = np.floor(10*np.random.random((2,2)))\n",
    "b = np.floor(10*np.random.random((2,2)))\n",
    "print(np.vstack((a,b)), '\\n')                   # a와 b를 수직 방향으로 쌓는다(stack)\n",
    "print(np.hstack((a,b)), '\\n')                   # a와 b를 수평 방향으로 쌓는다."
   ],
   "metadata": {
    "collapsed": false,
    "pycharm": {
     "name": "#%%\n"
    }
   }
  }
 ],
 "metadata": {
  "kernelspec": {
   "display_name": "Python 3",
   "language": "python",
   "name": "python3"
  },
  "language_info": {
   "codemirror_mode": {
    "name": "ipython",
    "version": 2
   },
   "file_extension": ".py",
   "mimetype": "text/x-python",
   "name": "python",
   "nbconvert_exporter": "python",
   "pygments_lexer": "ipython2",
   "version": "2.7.6"
  }
 },
 "nbformat": 4,
 "nbformat_minor": 0
}