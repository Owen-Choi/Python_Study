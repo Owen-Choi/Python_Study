{
 "cells": [
  {
   "cell_type": "code",
   "execution_count": 1,
   "metadata": {
    "collapsed": true
   },
   "outputs": [
    {
     "name": "stdout",
     "output_type": "stream",
     "text": [
      "Entityset: clients\n",
      "  Entities:\n",
      "  Relationships:\n",
      "    No relationships\n"
     ]
    }
   ],
   "source": [
    "import pandas as pd\n",
    "import numpy as np\n",
    "import featuretools as ft\n",
    "\n",
    "es = ft.EntitySet(id = 'clients')\n",
    "print(es)"
   ]
  },
  {
   "cell_type": "code",
   "execution_count": 10,
   "outputs": [
    {
     "data": {
      "text/plain": "    client_id     joined  income  credit_score\n0       46109 2002-04-16  172677           527\n1       49545 2007-11-14  104564           770\n2       41480 2013-03-11  122607           585\n3       46180 2001-11-06   43851           562\n4       25707 2006-10-06  211422           621\n5       39505 2011-10-14  153873           610\n6       32726 2006-05-01  235705           730\n7       35089 2010-03-01  131176           771\n8       35214 2003-08-08   95849           696\n9       48177 2008-06-09  190632           769\n10      26326 2004-05-06  227920           633\n11      42320 2000-04-27  229481           563\n12      32961 2009-04-07  230341           714\n13      29841 2002-08-17   38354           523\n14      44601 2004-10-20  156341           518\n15      32885 2002-05-13   58955           642\n16      49068 2004-02-12  128813           603\n17      44387 2009-07-14  151903           781\n18      39384 2000-06-18  191204           617\n19      26695 2004-08-27  174532           680\n20      38537 2002-10-21  127183           643\n21      46958 2011-07-22  225709           644\n22      41472 2001-11-06  152214           638\n23      49624 2012-08-04   49036           800\n24      26945 2000-11-26  214516           806",
      "text/html": "<div>\n<style scoped>\n    .dataframe tbody tr th:only-of-type {\n        vertical-align: middle;\n    }\n\n    .dataframe tbody tr th {\n        vertical-align: top;\n    }\n\n    .dataframe thead th {\n        text-align: right;\n    }\n</style>\n<table border=\"1\" class=\"dataframe\">\n  <thead>\n    <tr style=\"text-align: right;\">\n      <th></th>\n      <th>client_id</th>\n      <th>joined</th>\n      <th>income</th>\n      <th>credit_score</th>\n    </tr>\n  </thead>\n  <tbody>\n    <tr>\n      <th>0</th>\n      <td>46109</td>\n      <td>2002-04-16</td>\n      <td>172677</td>\n      <td>527</td>\n    </tr>\n    <tr>\n      <th>1</th>\n      <td>49545</td>\n      <td>2007-11-14</td>\n      <td>104564</td>\n      <td>770</td>\n    </tr>\n    <tr>\n      <th>2</th>\n      <td>41480</td>\n      <td>2013-03-11</td>\n      <td>122607</td>\n      <td>585</td>\n    </tr>\n    <tr>\n      <th>3</th>\n      <td>46180</td>\n      <td>2001-11-06</td>\n      <td>43851</td>\n      <td>562</td>\n    </tr>\n    <tr>\n      <th>4</th>\n      <td>25707</td>\n      <td>2006-10-06</td>\n      <td>211422</td>\n      <td>621</td>\n    </tr>\n    <tr>\n      <th>5</th>\n      <td>39505</td>\n      <td>2011-10-14</td>\n      <td>153873</td>\n      <td>610</td>\n    </tr>\n    <tr>\n      <th>6</th>\n      <td>32726</td>\n      <td>2006-05-01</td>\n      <td>235705</td>\n      <td>730</td>\n    </tr>\n    <tr>\n      <th>7</th>\n      <td>35089</td>\n      <td>2010-03-01</td>\n      <td>131176</td>\n      <td>771</td>\n    </tr>\n    <tr>\n      <th>8</th>\n      <td>35214</td>\n      <td>2003-08-08</td>\n      <td>95849</td>\n      <td>696</td>\n    </tr>\n    <tr>\n      <th>9</th>\n      <td>48177</td>\n      <td>2008-06-09</td>\n      <td>190632</td>\n      <td>769</td>\n    </tr>\n    <tr>\n      <th>10</th>\n      <td>26326</td>\n      <td>2004-05-06</td>\n      <td>227920</td>\n      <td>633</td>\n    </tr>\n    <tr>\n      <th>11</th>\n      <td>42320</td>\n      <td>2000-04-27</td>\n      <td>229481</td>\n      <td>563</td>\n    </tr>\n    <tr>\n      <th>12</th>\n      <td>32961</td>\n      <td>2009-04-07</td>\n      <td>230341</td>\n      <td>714</td>\n    </tr>\n    <tr>\n      <th>13</th>\n      <td>29841</td>\n      <td>2002-08-17</td>\n      <td>38354</td>\n      <td>523</td>\n    </tr>\n    <tr>\n      <th>14</th>\n      <td>44601</td>\n      <td>2004-10-20</td>\n      <td>156341</td>\n      <td>518</td>\n    </tr>\n    <tr>\n      <th>15</th>\n      <td>32885</td>\n      <td>2002-05-13</td>\n      <td>58955</td>\n      <td>642</td>\n    </tr>\n    <tr>\n      <th>16</th>\n      <td>49068</td>\n      <td>2004-02-12</td>\n      <td>128813</td>\n      <td>603</td>\n    </tr>\n    <tr>\n      <th>17</th>\n      <td>44387</td>\n      <td>2009-07-14</td>\n      <td>151903</td>\n      <td>781</td>\n    </tr>\n    <tr>\n      <th>18</th>\n      <td>39384</td>\n      <td>2000-06-18</td>\n      <td>191204</td>\n      <td>617</td>\n    </tr>\n    <tr>\n      <th>19</th>\n      <td>26695</td>\n      <td>2004-08-27</td>\n      <td>174532</td>\n      <td>680</td>\n    </tr>\n    <tr>\n      <th>20</th>\n      <td>38537</td>\n      <td>2002-10-21</td>\n      <td>127183</td>\n      <td>643</td>\n    </tr>\n    <tr>\n      <th>21</th>\n      <td>46958</td>\n      <td>2011-07-22</td>\n      <td>225709</td>\n      <td>644</td>\n    </tr>\n    <tr>\n      <th>22</th>\n      <td>41472</td>\n      <td>2001-11-06</td>\n      <td>152214</td>\n      <td>638</td>\n    </tr>\n    <tr>\n      <th>23</th>\n      <td>49624</td>\n      <td>2012-08-04</td>\n      <td>49036</td>\n      <td>800</td>\n    </tr>\n    <tr>\n      <th>24</th>\n      <td>26945</td>\n      <td>2000-11-26</td>\n      <td>214516</td>\n      <td>806</td>\n    </tr>\n  </tbody>\n</table>\n</div>"
     },
     "execution_count": 10,
     "metadata": {},
     "output_type": "execute_result"
    }
   ],
   "source": [
    "clients = pd.read_csv('data/clients.csv', parse_dates = ['joined'])\n",
    "loans = pd.read_csv('data/loans.csv', parse_dates = ['loan_start', 'loan_end'])\n",
    "payments = pd.read_csv('data/payments.csv', parse_dates = ['payment_date'])\n",
    "\n",
    "clients"
   ],
   "metadata": {
    "collapsed": false,
    "pycharm": {
     "name": "#%%\n"
    }
   }
  },
  {
   "cell_type": "markdown",
   "source": [],
   "metadata": {
    "collapsed": false
   }
  },
  {
   "cell_type": "code",
   "execution_count": 3,
   "outputs": [
    {
     "name": "stdout",
     "output_type": "stream",
     "text": [
      "Entityset: clients\n",
      "  Entities:\n",
      "    clients [Rows: 25, Columns: 4]\n",
      "    loans [Rows: 443, Columns: 8]\n",
      "  Relationships:\n",
      "    No relationships\n"
     ]
    }
   ],
   "source": [
    "es = ft.EntitySet(id = 'clients')\n",
    "es = es.entity_from_dataframe(entity_id= 'clients', dataframe= clients, index = 'client_id', time_index='joined')\n",
    "es = es.entity_from_dataframe(entity_id= 'loans', dataframe= loans, index = 'loan_id')\n",
    "print(es)"
   ],
   "metadata": {
    "collapsed": false,
    "pycharm": {
     "name": "#%%\n"
    }
   }
  },
  {
   "cell_type": "code",
   "execution_count": 4,
   "outputs": [],
   "source": [
    "es = es.entity_from_dataframe(entity_id = 'payments',\n",
    "                              dataframe = payments,\n",
    "                              variable_types = {'missed': ft.variable_types.Categorical},\n",
    "                              make_index = True,\n",
    "                              index = 'payment_id',\n",
    "                              time_index = 'payment_date')"
   ],
   "metadata": {
    "collapsed": false,
    "pycharm": {
     "name": "#%%\n"
    }
   }
  },
  {
   "cell_type": "code",
   "execution_count": 5,
   "outputs": [
    {
     "name": "stdout",
     "output_type": "stream",
     "text": [
      "Entityset: clients\n",
      "  Entities:\n",
      "    clients [Rows: 25, Columns: 4]\n",
      "    loans [Rows: 443, Columns: 8]\n",
      "    payments [Rows: 3456, Columns: 5]\n",
      "  Relationships:\n",
      "    No relationships\n"
     ]
    }
   ],
   "source": [
    "print(es)\n",
    "# es['payments']"
   ],
   "metadata": {
    "collapsed": false,
    "pycharm": {
     "name": "#%%\n"
    }
   }
  },
  {
   "cell_type": "code",
   "execution_count": 6,
   "outputs": [
    {
     "data": {
      "text/plain": "Entityset: clients\n  Entities:\n    clients [Rows: 25, Columns: 4]\n    loans [Rows: 443, Columns: 8]\n    payments [Rows: 3456, Columns: 5]\n  Relationships:\n    loans.client_id -> clients.client_id\n    payments.loan_id -> loans.loan_id"
     },
     "execution_count": 6,
     "metadata": {},
     "output_type": "execute_result"
    }
   ],
   "source": [
    "# Relationship between clients and previous loans\n",
    "r_client_previous = ft.Relationship(es['clients']['client_id'],\n",
    "                                    es['loans']['client_id'])\n",
    "\n",
    "# Add the relationship to the entity set\n",
    "es = es.add_relationship(r_client_previous)\n",
    "\n",
    "# Relationship between previous loans and previous payments\n",
    "r_payments = ft.Relationship(es['loans']['loan_id'],\n",
    "                                      es['payments']['loan_id'])\n",
    "\n",
    "# Add the relationship to the entity set\n",
    "es = es.add_relationship(r_payments)\n",
    "\n",
    "es"
   ],
   "metadata": {
    "collapsed": false,
    "pycharm": {
     "name": "#%%\n"
    }
   }
  },
  {
   "cell_type": "code",
   "execution_count": 27,
   "outputs": [
    {
     "name": "stderr",
     "output_type": "stream",
     "text": [
      "C:\\Users\\oldst\\anaconda3\\envs\\pythonProject\\lib\\site-packages\\featuretools\\synthesis\\dfs.py:307: UnusedPrimitiveWarning: Some specified primitives were not used during DFS:\n",
      "  agg_primitives: ['percent_true']\n",
      "This may be caused by a using a value of max_depth that is too small, not setting interesting values, or it may indicate no compatible variable types for the primitive were found in the data.\n",
      "  warnings.warn(warning_msg, UnusedPrimitiveWarning)\n"
     ]
    },
    {
     "data": {
      "text/plain": "           income  credit_score  LAST(loans.loan_amount)  LAST(loans.loan_id)  \\\nclient_id                                                                       \n42320      229481           563                     1070                10769   \n39384      191204           617                    10703                11038   \n26945      214516           806                     3643                11434   \n41472      152214           638                     5554                11792   \n46180       43851           562                     9221                10893   \n46109      172677           527                      559                10599   \n32885       58955           642                     7914                11006   \n29841       38354           523                     9394                11617   \n38537      127183           643                    10498                11197   \n35214       95849           696                     3872                10741   \n49068      128813           603                    11871                11154   \n26326      227920           633                     6119                11513   \n26695      174532           680                     4776                10305   \n44601      156341           518                     6232                11183   \n32726      235705           730                    14802                10436   \n25707      211422           621                     6371                11942   \n49545      104564           770                     8354                10816   \n48177      190632           769                     6318                10224   \n32961      230341           714                    10602                11427   \n44387      151903           781                      765                10080   \n35089      131176           771                     5732                11492   \n46958      225709           644                    14942                10399   \n39505      153873           610                     7162                11052   \n49624       49036           800                    11750                10072   \n41480      122607           585                      811                11430   \n\n          LAST(loans.loan_type)  LAST(loans.rate)  LAST(loans.repaid)  \\\nclient_id                                                               \n42320                    credit              0.95                   1   \n39384                    credit              9.01                   1   \n26945                      home              0.13                   0   \n41472                    credit              4.60                   1   \n46180                    credit              0.88                   1   \n46109                    credit              4.15                   1   \n32885                    credit              5.25                   1   \n29841                      cash              6.12                   1   \n38537                    credit              4.09                   1   \n35214                      cash              0.57                   1   \n49068                      cash              4.08                   1   \n26326                     other              2.35                   0   \n26695                    credit              0.97                   1   \n44601                     other              6.83                   1   \n32726                      cash              2.64                   1   \n25707                    credit              6.02                   0   \n49545                      home              0.45                   1   \n48177                     other             10.89                   0   \n32961                    credit              4.44                   1   \n44387                      cash              4.59                   0   \n35089                    credit              1.75                   0   \n46958                     other              1.94                   0   \n39505                    credit              8.60                   1   \n49624                      home              0.63                   0   \n41480                    credit              0.43                   0   \n\n           MAX(loans.loan_amount)  MAX(loans.rate)  MAX(loans.repaid)  ...  \\\nclient_id                                                              ...   \n42320                       13887             6.74                  1  ...   \n39384                       14654             9.23                  1  ...   \n26945                       14593             5.65                  1  ...   \n41472                       13657             9.82                  1  ...   \n46180                       14081             9.26                  1  ...   \n46109                       14049             9.48                  1  ...   \n32885                       14162             9.11                  1  ...   \n29841                       14837             6.76                  1  ...   \n38537                       14804             8.01                  1  ...   \n35214                       14767             8.44                  1  ...   \n49068                       13910             6.78                  1  ...   \n26326                       13464             6.73                  1  ...   \n26695                       14865             6.51                  1  ...   \n44601                       14104             9.22                  1  ...   \n32726                       14802             9.10                  1  ...   \n25707                       13913             9.44                  1  ...   \n49545                       14971             6.52                  1  ...   \n48177                       14740            10.89                  1  ...   \n32961                       14784             9.14                  1  ...   \n44387                       14900             5.97                  1  ...   \n35089                       13194             7.63                  1  ...   \n46958                       14942             6.17                  1  ...   \n39505                       14575             9.91                  1  ...   \n49624                       14679            12.62                  1  ...   \n41480                       14399            10.49                  1  ...   \n\n           MEAN(payments.loans.repaid)  MIN(payments.loans.loan_amount)  \\\nclient_id                                                                 \n42320                         0.583333                             1070   \n39384                         0.575342                             1770   \n26945                         0.339286                              653   \n41472                         0.533333                              986   \n46180                         0.496644                             1607   \n46109                         0.539007                              559   \n32885                         0.547826                             3704   \n29841                         0.560000                             2778   \n38537                         0.585366                             2396   \n35214                         0.391566                              667   \n49068                         0.731544                             1447   \n26326                         0.473684                             1164   \n26695                         0.397059                             2389   \n44601                         0.730769                             1221   \n32726                         0.596026                              851   \n25707                         0.465839                             1212   \n49545                         0.586387                             3851   \n48177                         0.430380                              659   \n32961                         0.419847                             1693   \n44387                         0.504587                              765   \n35089                         0.635220                              773   \n46958                         0.206522                             2390   \n39505                         0.410596                              904   \n49624                         0.623762                             2361   \n41480                         0.470199                              811   \n\n           MIN(payments.loans.rate)  MIN(payments.loans.repaid)  \\\nclient_id                                                         \n42320                          0.38                           0   \n39384                          0.43                           0   \n26945                          0.13                           0   \n41472                          0.01                           0   \n46180                          0.57                           0   \n46109                          0.50                           0   \n32885                          0.10                           0   \n29841                          0.26                           0   \n38537                          0.35                           0   \n35214                          0.16                           0   \n49068                          0.02                           0   \n26326                          0.50                           0   \n26695                          0.22                           0   \n44601                          0.07                           0   \n32726                          0.31                           0   \n25707                          0.33                           0   \n49545                          0.05                           0   \n48177                          0.52                           0   \n32961                          0.01                           0   \n44387                          0.03                           0   \n35089                          0.66                           0   \n46958                          0.32                           0   \n39505                          0.19                           0   \n49624                          0.01                           0   \n41480                          0.36                           0   \n\n           MONTH(LAST(loans.loan_end))  MONTH(LAST(loans.loan_start))  \\\nclient_id                                                               \n42320                                2                             11   \n39384                                5                              5   \n26945                               12                              3   \n41472                                8                              2   \n46180                                2                              7   \n46109                               11                              2   \n32885                                7                             12   \n29841                                4                              4   \n38537                               12                              5   \n35214                               12                              2   \n49068                               11                             10   \n26326                                6                             11   \n26695                                9                              9   \n44601                                4                             10   \n32726                                6                             11   \n25707                                2                              1   \n49545                                8                              3   \n48177                                5                              2   \n32961                               12                              6   \n44387                                3                              7   \n35089                                8                              3   \n46958                               11                              1   \n39505                                6                              7   \n49624                               11                             10   \n41480                                1                              8   \n\n           MONTH(LAST(payments.payment_date))  YEAR(LAST(loans.loan_end))  \\\nclient_id                                                                   \n42320                                       4                        2014   \n39384                                       3                        2004   \n26945                                       7                        2011   \n41472                                       3                        2008   \n46180                                       2                        2004   \n46109                                       6                        2009   \n32885                                      12                        2011   \n29841                                       1                        2013   \n38537                                       9                        2009   \n35214                                      11                        2003   \n49068                                       6                        2013   \n26326                                       8                        2007   \n26695                                       3                        2005   \n44601                                       9                        2006   \n32726                                      12                        2014   \n25707                                      11                        2013   \n49545                                       4                        2001   \n48177                                       7                        2005   \n32961                                      10                        2009   \n44387                                      11                        2003   \n35089                                       4                        2007   \n46958                                       5                        2006   \n39505                                       4                        2006   \n49624                                       5                        2005   \n41480                                       3                        2012   \n\n           YEAR(LAST(loans.loan_start))  YEAR(LAST(payments.payment_date))  \nclient_id                                                                   \n42320                              2011                               2013  \n39384                              2002                               2015  \n26945                              2010                               2014  \n41472                              2006                               2015  \n46180                              2002                               2015  \n46109                              2008                               2014  \n32885                              2008                               2014  \n29841                              2011                               2015  \n38537                              2007                               2014  \n35214                              2002                               2014  \n49068                              2011                               2015  \n26326                              2005                               2015  \n26695                              2003                               2015  \n44601                              2003                               2014  \n32726                              2011                               2014  \n25707                              2011                               2014  \n49545                              2000                               2015  \n48177                              2003                               2015  \n32961                              2008                               2014  \n44387                              2000                               2014  \n35089                              2006                               2015  \n46958                              2005                               2015  \n39505                              2004                               2015  \n49624                              2003                               2015  \n41480                              2009                               2015  \n\n[25 rows x 61 columns]",
      "text/html": "<div>\n<style scoped>\n    .dataframe tbody tr th:only-of-type {\n        vertical-align: middle;\n    }\n\n    .dataframe tbody tr th {\n        vertical-align: top;\n    }\n\n    .dataframe thead th {\n        text-align: right;\n    }\n</style>\n<table border=\"1\" class=\"dataframe\">\n  <thead>\n    <tr style=\"text-align: right;\">\n      <th></th>\n      <th>income</th>\n      <th>credit_score</th>\n      <th>LAST(loans.loan_amount)</th>\n      <th>LAST(loans.loan_id)</th>\n      <th>LAST(loans.loan_type)</th>\n      <th>LAST(loans.rate)</th>\n      <th>LAST(loans.repaid)</th>\n      <th>MAX(loans.loan_amount)</th>\n      <th>MAX(loans.rate)</th>\n      <th>MAX(loans.repaid)</th>\n      <th>...</th>\n      <th>MEAN(payments.loans.repaid)</th>\n      <th>MIN(payments.loans.loan_amount)</th>\n      <th>MIN(payments.loans.rate)</th>\n      <th>MIN(payments.loans.repaid)</th>\n      <th>MONTH(LAST(loans.loan_end))</th>\n      <th>MONTH(LAST(loans.loan_start))</th>\n      <th>MONTH(LAST(payments.payment_date))</th>\n      <th>YEAR(LAST(loans.loan_end))</th>\n      <th>YEAR(LAST(loans.loan_start))</th>\n      <th>YEAR(LAST(payments.payment_date))</th>\n    </tr>\n    <tr>\n      <th>client_id</th>\n      <th></th>\n      <th></th>\n      <th></th>\n      <th></th>\n      <th></th>\n      <th></th>\n      <th></th>\n      <th></th>\n      <th></th>\n      <th></th>\n      <th></th>\n      <th></th>\n      <th></th>\n      <th></th>\n      <th></th>\n      <th></th>\n      <th></th>\n      <th></th>\n      <th></th>\n      <th></th>\n      <th></th>\n    </tr>\n  </thead>\n  <tbody>\n    <tr>\n      <th>42320</th>\n      <td>229481</td>\n      <td>563</td>\n      <td>1070</td>\n      <td>10769</td>\n      <td>credit</td>\n      <td>0.95</td>\n      <td>1</td>\n      <td>13887</td>\n      <td>6.74</td>\n      <td>1</td>\n      <td>...</td>\n      <td>0.583333</td>\n      <td>1070</td>\n      <td>0.38</td>\n      <td>0</td>\n      <td>2</td>\n      <td>11</td>\n      <td>4</td>\n      <td>2014</td>\n      <td>2011</td>\n      <td>2013</td>\n    </tr>\n    <tr>\n      <th>39384</th>\n      <td>191204</td>\n      <td>617</td>\n      <td>10703</td>\n      <td>11038</td>\n      <td>credit</td>\n      <td>9.01</td>\n      <td>1</td>\n      <td>14654</td>\n      <td>9.23</td>\n      <td>1</td>\n      <td>...</td>\n      <td>0.575342</td>\n      <td>1770</td>\n      <td>0.43</td>\n      <td>0</td>\n      <td>5</td>\n      <td>5</td>\n      <td>3</td>\n      <td>2004</td>\n      <td>2002</td>\n      <td>2015</td>\n    </tr>\n    <tr>\n      <th>26945</th>\n      <td>214516</td>\n      <td>806</td>\n      <td>3643</td>\n      <td>11434</td>\n      <td>home</td>\n      <td>0.13</td>\n      <td>0</td>\n      <td>14593</td>\n      <td>5.65</td>\n      <td>1</td>\n      <td>...</td>\n      <td>0.339286</td>\n      <td>653</td>\n      <td>0.13</td>\n      <td>0</td>\n      <td>12</td>\n      <td>3</td>\n      <td>7</td>\n      <td>2011</td>\n      <td>2010</td>\n      <td>2014</td>\n    </tr>\n    <tr>\n      <th>41472</th>\n      <td>152214</td>\n      <td>638</td>\n      <td>5554</td>\n      <td>11792</td>\n      <td>credit</td>\n      <td>4.60</td>\n      <td>1</td>\n      <td>13657</td>\n      <td>9.82</td>\n      <td>1</td>\n      <td>...</td>\n      <td>0.533333</td>\n      <td>986</td>\n      <td>0.01</td>\n      <td>0</td>\n      <td>8</td>\n      <td>2</td>\n      <td>3</td>\n      <td>2008</td>\n      <td>2006</td>\n      <td>2015</td>\n    </tr>\n    <tr>\n      <th>46180</th>\n      <td>43851</td>\n      <td>562</td>\n      <td>9221</td>\n      <td>10893</td>\n      <td>credit</td>\n      <td>0.88</td>\n      <td>1</td>\n      <td>14081</td>\n      <td>9.26</td>\n      <td>1</td>\n      <td>...</td>\n      <td>0.496644</td>\n      <td>1607</td>\n      <td>0.57</td>\n      <td>0</td>\n      <td>2</td>\n      <td>7</td>\n      <td>2</td>\n      <td>2004</td>\n      <td>2002</td>\n      <td>2015</td>\n    </tr>\n    <tr>\n      <th>46109</th>\n      <td>172677</td>\n      <td>527</td>\n      <td>559</td>\n      <td>10599</td>\n      <td>credit</td>\n      <td>4.15</td>\n      <td>1</td>\n      <td>14049</td>\n      <td>9.48</td>\n      <td>1</td>\n      <td>...</td>\n      <td>0.539007</td>\n      <td>559</td>\n      <td>0.50</td>\n      <td>0</td>\n      <td>11</td>\n      <td>2</td>\n      <td>6</td>\n      <td>2009</td>\n      <td>2008</td>\n      <td>2014</td>\n    </tr>\n    <tr>\n      <th>32885</th>\n      <td>58955</td>\n      <td>642</td>\n      <td>7914</td>\n      <td>11006</td>\n      <td>credit</td>\n      <td>5.25</td>\n      <td>1</td>\n      <td>14162</td>\n      <td>9.11</td>\n      <td>1</td>\n      <td>...</td>\n      <td>0.547826</td>\n      <td>3704</td>\n      <td>0.10</td>\n      <td>0</td>\n      <td>7</td>\n      <td>12</td>\n      <td>12</td>\n      <td>2011</td>\n      <td>2008</td>\n      <td>2014</td>\n    </tr>\n    <tr>\n      <th>29841</th>\n      <td>38354</td>\n      <td>523</td>\n      <td>9394</td>\n      <td>11617</td>\n      <td>cash</td>\n      <td>6.12</td>\n      <td>1</td>\n      <td>14837</td>\n      <td>6.76</td>\n      <td>1</td>\n      <td>...</td>\n      <td>0.560000</td>\n      <td>2778</td>\n      <td>0.26</td>\n      <td>0</td>\n      <td>4</td>\n      <td>4</td>\n      <td>1</td>\n      <td>2013</td>\n      <td>2011</td>\n      <td>2015</td>\n    </tr>\n    <tr>\n      <th>38537</th>\n      <td>127183</td>\n      <td>643</td>\n      <td>10498</td>\n      <td>11197</td>\n      <td>credit</td>\n      <td>4.09</td>\n      <td>1</td>\n      <td>14804</td>\n      <td>8.01</td>\n      <td>1</td>\n      <td>...</td>\n      <td>0.585366</td>\n      <td>2396</td>\n      <td>0.35</td>\n      <td>0</td>\n      <td>12</td>\n      <td>5</td>\n      <td>9</td>\n      <td>2009</td>\n      <td>2007</td>\n      <td>2014</td>\n    </tr>\n    <tr>\n      <th>35214</th>\n      <td>95849</td>\n      <td>696</td>\n      <td>3872</td>\n      <td>10741</td>\n      <td>cash</td>\n      <td>0.57</td>\n      <td>1</td>\n      <td>14767</td>\n      <td>8.44</td>\n      <td>1</td>\n      <td>...</td>\n      <td>0.391566</td>\n      <td>667</td>\n      <td>0.16</td>\n      <td>0</td>\n      <td>12</td>\n      <td>2</td>\n      <td>11</td>\n      <td>2003</td>\n      <td>2002</td>\n      <td>2014</td>\n    </tr>\n    <tr>\n      <th>49068</th>\n      <td>128813</td>\n      <td>603</td>\n      <td>11871</td>\n      <td>11154</td>\n      <td>cash</td>\n      <td>4.08</td>\n      <td>1</td>\n      <td>13910</td>\n      <td>6.78</td>\n      <td>1</td>\n      <td>...</td>\n      <td>0.731544</td>\n      <td>1447</td>\n      <td>0.02</td>\n      <td>0</td>\n      <td>11</td>\n      <td>10</td>\n      <td>6</td>\n      <td>2013</td>\n      <td>2011</td>\n      <td>2015</td>\n    </tr>\n    <tr>\n      <th>26326</th>\n      <td>227920</td>\n      <td>633</td>\n      <td>6119</td>\n      <td>11513</td>\n      <td>other</td>\n      <td>2.35</td>\n      <td>0</td>\n      <td>13464</td>\n      <td>6.73</td>\n      <td>1</td>\n      <td>...</td>\n      <td>0.473684</td>\n      <td>1164</td>\n      <td>0.50</td>\n      <td>0</td>\n      <td>6</td>\n      <td>11</td>\n      <td>8</td>\n      <td>2007</td>\n      <td>2005</td>\n      <td>2015</td>\n    </tr>\n    <tr>\n      <th>26695</th>\n      <td>174532</td>\n      <td>680</td>\n      <td>4776</td>\n      <td>10305</td>\n      <td>credit</td>\n      <td>0.97</td>\n      <td>1</td>\n      <td>14865</td>\n      <td>6.51</td>\n      <td>1</td>\n      <td>...</td>\n      <td>0.397059</td>\n      <td>2389</td>\n      <td>0.22</td>\n      <td>0</td>\n      <td>9</td>\n      <td>9</td>\n      <td>3</td>\n      <td>2005</td>\n      <td>2003</td>\n      <td>2015</td>\n    </tr>\n    <tr>\n      <th>44601</th>\n      <td>156341</td>\n      <td>518</td>\n      <td>6232</td>\n      <td>11183</td>\n      <td>other</td>\n      <td>6.83</td>\n      <td>1</td>\n      <td>14104</td>\n      <td>9.22</td>\n      <td>1</td>\n      <td>...</td>\n      <td>0.730769</td>\n      <td>1221</td>\n      <td>0.07</td>\n      <td>0</td>\n      <td>4</td>\n      <td>10</td>\n      <td>9</td>\n      <td>2006</td>\n      <td>2003</td>\n      <td>2014</td>\n    </tr>\n    <tr>\n      <th>32726</th>\n      <td>235705</td>\n      <td>730</td>\n      <td>14802</td>\n      <td>10436</td>\n      <td>cash</td>\n      <td>2.64</td>\n      <td>1</td>\n      <td>14802</td>\n      <td>9.10</td>\n      <td>1</td>\n      <td>...</td>\n      <td>0.596026</td>\n      <td>851</td>\n      <td>0.31</td>\n      <td>0</td>\n      <td>6</td>\n      <td>11</td>\n      <td>12</td>\n      <td>2014</td>\n      <td>2011</td>\n      <td>2014</td>\n    </tr>\n    <tr>\n      <th>25707</th>\n      <td>211422</td>\n      <td>621</td>\n      <td>6371</td>\n      <td>11942</td>\n      <td>credit</td>\n      <td>6.02</td>\n      <td>0</td>\n      <td>13913</td>\n      <td>9.44</td>\n      <td>1</td>\n      <td>...</td>\n      <td>0.465839</td>\n      <td>1212</td>\n      <td>0.33</td>\n      <td>0</td>\n      <td>2</td>\n      <td>1</td>\n      <td>11</td>\n      <td>2013</td>\n      <td>2011</td>\n      <td>2014</td>\n    </tr>\n    <tr>\n      <th>49545</th>\n      <td>104564</td>\n      <td>770</td>\n      <td>8354</td>\n      <td>10816</td>\n      <td>home</td>\n      <td>0.45</td>\n      <td>1</td>\n      <td>14971</td>\n      <td>6.52</td>\n      <td>1</td>\n      <td>...</td>\n      <td>0.586387</td>\n      <td>3851</td>\n      <td>0.05</td>\n      <td>0</td>\n      <td>8</td>\n      <td>3</td>\n      <td>4</td>\n      <td>2001</td>\n      <td>2000</td>\n      <td>2015</td>\n    </tr>\n    <tr>\n      <th>48177</th>\n      <td>190632</td>\n      <td>769</td>\n      <td>6318</td>\n      <td>10224</td>\n      <td>other</td>\n      <td>10.89</td>\n      <td>0</td>\n      <td>14740</td>\n      <td>10.89</td>\n      <td>1</td>\n      <td>...</td>\n      <td>0.430380</td>\n      <td>659</td>\n      <td>0.52</td>\n      <td>0</td>\n      <td>5</td>\n      <td>2</td>\n      <td>7</td>\n      <td>2005</td>\n      <td>2003</td>\n      <td>2015</td>\n    </tr>\n    <tr>\n      <th>32961</th>\n      <td>230341</td>\n      <td>714</td>\n      <td>10602</td>\n      <td>11427</td>\n      <td>credit</td>\n      <td>4.44</td>\n      <td>1</td>\n      <td>14784</td>\n      <td>9.14</td>\n      <td>1</td>\n      <td>...</td>\n      <td>0.419847</td>\n      <td>1693</td>\n      <td>0.01</td>\n      <td>0</td>\n      <td>12</td>\n      <td>6</td>\n      <td>10</td>\n      <td>2009</td>\n      <td>2008</td>\n      <td>2014</td>\n    </tr>\n    <tr>\n      <th>44387</th>\n      <td>151903</td>\n      <td>781</td>\n      <td>765</td>\n      <td>10080</td>\n      <td>cash</td>\n      <td>4.59</td>\n      <td>0</td>\n      <td>14900</td>\n      <td>5.97</td>\n      <td>1</td>\n      <td>...</td>\n      <td>0.504587</td>\n      <td>765</td>\n      <td>0.03</td>\n      <td>0</td>\n      <td>3</td>\n      <td>7</td>\n      <td>11</td>\n      <td>2003</td>\n      <td>2000</td>\n      <td>2014</td>\n    </tr>\n    <tr>\n      <th>35089</th>\n      <td>131176</td>\n      <td>771</td>\n      <td>5732</td>\n      <td>11492</td>\n      <td>credit</td>\n      <td>1.75</td>\n      <td>0</td>\n      <td>13194</td>\n      <td>7.63</td>\n      <td>1</td>\n      <td>...</td>\n      <td>0.635220</td>\n      <td>773</td>\n      <td>0.66</td>\n      <td>0</td>\n      <td>8</td>\n      <td>3</td>\n      <td>4</td>\n      <td>2007</td>\n      <td>2006</td>\n      <td>2015</td>\n    </tr>\n    <tr>\n      <th>46958</th>\n      <td>225709</td>\n      <td>644</td>\n      <td>14942</td>\n      <td>10399</td>\n      <td>other</td>\n      <td>1.94</td>\n      <td>0</td>\n      <td>14942</td>\n      <td>6.17</td>\n      <td>1</td>\n      <td>...</td>\n      <td>0.206522</td>\n      <td>2390</td>\n      <td>0.32</td>\n      <td>0</td>\n      <td>11</td>\n      <td>1</td>\n      <td>5</td>\n      <td>2006</td>\n      <td>2005</td>\n      <td>2015</td>\n    </tr>\n    <tr>\n      <th>39505</th>\n      <td>153873</td>\n      <td>610</td>\n      <td>7162</td>\n      <td>11052</td>\n      <td>credit</td>\n      <td>8.60</td>\n      <td>1</td>\n      <td>14575</td>\n      <td>9.91</td>\n      <td>1</td>\n      <td>...</td>\n      <td>0.410596</td>\n      <td>904</td>\n      <td>0.19</td>\n      <td>0</td>\n      <td>6</td>\n      <td>7</td>\n      <td>4</td>\n      <td>2006</td>\n      <td>2004</td>\n      <td>2015</td>\n    </tr>\n    <tr>\n      <th>49624</th>\n      <td>49036</td>\n      <td>800</td>\n      <td>11750</td>\n      <td>10072</td>\n      <td>home</td>\n      <td>0.63</td>\n      <td>0</td>\n      <td>14679</td>\n      <td>12.62</td>\n      <td>1</td>\n      <td>...</td>\n      <td>0.623762</td>\n      <td>2361</td>\n      <td>0.01</td>\n      <td>0</td>\n      <td>11</td>\n      <td>10</td>\n      <td>5</td>\n      <td>2005</td>\n      <td>2003</td>\n      <td>2015</td>\n    </tr>\n    <tr>\n      <th>41480</th>\n      <td>122607</td>\n      <td>585</td>\n      <td>811</td>\n      <td>11430</td>\n      <td>credit</td>\n      <td>0.43</td>\n      <td>0</td>\n      <td>14399</td>\n      <td>10.49</td>\n      <td>1</td>\n      <td>...</td>\n      <td>0.470199</td>\n      <td>811</td>\n      <td>0.36</td>\n      <td>0</td>\n      <td>1</td>\n      <td>8</td>\n      <td>3</td>\n      <td>2012</td>\n      <td>2009</td>\n      <td>2015</td>\n    </tr>\n  </tbody>\n</table>\n<p>25 rows × 61 columns</p>\n</div>"
     },
     "execution_count": 27,
     "metadata": {},
     "output_type": "execute_result"
    }
   ],
   "source": [
    "# 결과로는 매개변수로 전달된 값에 기반한 새로운 client 데이터프레임이 생성된다.\n",
    "\n",
    "features, feature_names = ft.dfs(entityset = es, target_entity = 'clients',\n",
    "                                 agg_primitives = ['min', 'mean', 'max', 'percent_true', 'last'],\n",
    "                                 trans_primitives = ['year', 'month'])  # 뒤에 subtract, devide가 더 있었는데\n",
    "\n",
    "# features['MONTH(joined)']\n",
    "features"
   ],
   "metadata": {
    "collapsed": false,
    "pycharm": {
     "name": "#%%\n"
    }
   }
  },
  {
   "cell_type": "code",
   "execution_count": 33,
   "outputs": [
    {
     "name": "stderr",
     "output_type": "stream",
     "text": [
      "C:\\Users\\oldst\\anaconda3\\envs\\pythonProject\\lib\\site-packages\\featuretools\\synthesis\\deep_feature_synthesis.py:152: UserWarning: Only one entity in entityset, changing max_depth to 1 since deeper features cannot be created\n",
      "  warnings.warn(\"Only one entity in entityset, changing max_depth to \"\n"
     ]
    },
    {
     "data": {
      "text/plain": "         client_id loan_type  loan_amount  repaid  rate  CUM_SUM(client_id)  \\\nloan_id                                                                       \n10243        46109      home        13672       0  2.15               46109   \n10984        46109    credit         9794       0  1.25               92218   \n10990        46109      home        12734       1  0.68              138327   \n10596        46109      cash        12518       1  1.24              184436   \n11415        46109    credit        14049       1  3.13              230545   \n...            ...       ...          ...     ...   ...                 ...   \n10330        26945     other        12963       0  2.46            17129820   \n10248        26945    credit         1728       1  5.27            17156765   \n10154        26945     other         9329       0  5.65            17183710   \n10333        26945      home         4197       0  4.50            17210655   \n11434        26945      home         3643       0  0.13            17237600   \n\n         CUM_SUM(loan_amount)  CUM_SUM(rate)  CUM_SUM(repaid)  \nloan_id                                                        \n10243                   13672           2.15                0  \n10984                   23466           3.40                0  \n10990                   36200           4.08                1  \n10596                   48718           5.32                2  \n11415                   62767           8.45                3  \n...                       ...            ...              ...  \n10330                 3517267        1409.65              236  \n10248                 3518995        1414.92              237  \n10154                 3528324        1420.57              237  \n10333                 3532521        1425.07              237  \n11434                 3536164        1425.20              237  \n\n[443 rows x 9 columns]",
      "text/html": "<div>\n<style scoped>\n    .dataframe tbody tr th:only-of-type {\n        vertical-align: middle;\n    }\n\n    .dataframe tbody tr th {\n        vertical-align: top;\n    }\n\n    .dataframe thead th {\n        text-align: right;\n    }\n</style>\n<table border=\"1\" class=\"dataframe\">\n  <thead>\n    <tr style=\"text-align: right;\">\n      <th></th>\n      <th>client_id</th>\n      <th>loan_type</th>\n      <th>loan_amount</th>\n      <th>repaid</th>\n      <th>rate</th>\n      <th>CUM_SUM(client_id)</th>\n      <th>CUM_SUM(loan_amount)</th>\n      <th>CUM_SUM(rate)</th>\n      <th>CUM_SUM(repaid)</th>\n    </tr>\n    <tr>\n      <th>loan_id</th>\n      <th></th>\n      <th></th>\n      <th></th>\n      <th></th>\n      <th></th>\n      <th></th>\n      <th></th>\n      <th></th>\n      <th></th>\n    </tr>\n  </thead>\n  <tbody>\n    <tr>\n      <th>10243</th>\n      <td>46109</td>\n      <td>home</td>\n      <td>13672</td>\n      <td>0</td>\n      <td>2.15</td>\n      <td>46109</td>\n      <td>13672</td>\n      <td>2.15</td>\n      <td>0</td>\n    </tr>\n    <tr>\n      <th>10984</th>\n      <td>46109</td>\n      <td>credit</td>\n      <td>9794</td>\n      <td>0</td>\n      <td>1.25</td>\n      <td>92218</td>\n      <td>23466</td>\n      <td>3.40</td>\n      <td>0</td>\n    </tr>\n    <tr>\n      <th>10990</th>\n      <td>46109</td>\n      <td>home</td>\n      <td>12734</td>\n      <td>1</td>\n      <td>0.68</td>\n      <td>138327</td>\n      <td>36200</td>\n      <td>4.08</td>\n      <td>1</td>\n    </tr>\n    <tr>\n      <th>10596</th>\n      <td>46109</td>\n      <td>cash</td>\n      <td>12518</td>\n      <td>1</td>\n      <td>1.24</td>\n      <td>184436</td>\n      <td>48718</td>\n      <td>5.32</td>\n      <td>2</td>\n    </tr>\n    <tr>\n      <th>11415</th>\n      <td>46109</td>\n      <td>credit</td>\n      <td>14049</td>\n      <td>1</td>\n      <td>3.13</td>\n      <td>230545</td>\n      <td>62767</td>\n      <td>8.45</td>\n      <td>3</td>\n    </tr>\n    <tr>\n      <th>...</th>\n      <td>...</td>\n      <td>...</td>\n      <td>...</td>\n      <td>...</td>\n      <td>...</td>\n      <td>...</td>\n      <td>...</td>\n      <td>...</td>\n      <td>...</td>\n    </tr>\n    <tr>\n      <th>10330</th>\n      <td>26945</td>\n      <td>other</td>\n      <td>12963</td>\n      <td>0</td>\n      <td>2.46</td>\n      <td>17129820</td>\n      <td>3517267</td>\n      <td>1409.65</td>\n      <td>236</td>\n    </tr>\n    <tr>\n      <th>10248</th>\n      <td>26945</td>\n      <td>credit</td>\n      <td>1728</td>\n      <td>1</td>\n      <td>5.27</td>\n      <td>17156765</td>\n      <td>3518995</td>\n      <td>1414.92</td>\n      <td>237</td>\n    </tr>\n    <tr>\n      <th>10154</th>\n      <td>26945</td>\n      <td>other</td>\n      <td>9329</td>\n      <td>0</td>\n      <td>5.65</td>\n      <td>17183710</td>\n      <td>3528324</td>\n      <td>1420.57</td>\n      <td>237</td>\n    </tr>\n    <tr>\n      <th>10333</th>\n      <td>26945</td>\n      <td>home</td>\n      <td>4197</td>\n      <td>0</td>\n      <td>4.50</td>\n      <td>17210655</td>\n      <td>3532521</td>\n      <td>1425.07</td>\n      <td>237</td>\n    </tr>\n    <tr>\n      <th>11434</th>\n      <td>26945</td>\n      <td>home</td>\n      <td>3643</td>\n      <td>0</td>\n      <td>0.13</td>\n      <td>17237600</td>\n      <td>3536164</td>\n      <td>1425.20</td>\n      <td>237</td>\n    </tr>\n  </tbody>\n</table>\n<p>443 rows × 9 columns</p>\n</div>"
     },
     "execution_count": 33,
     "metadata": {},
     "output_type": "execute_result"
    }
   ],
   "source": [
    "import pandas as pd\n",
    "import numpy as np\n",
    "import featuretools as ft\n",
    "\n",
    "clients = pd.read_csv('data/clients.csv', parse_dates=['joined'])\n",
    "loans = pd.read_csv('data/loans.csv', parse_dates=['loan_start', 'loan_end'])\n",
    "payments = pd.read_csv('data/payments.csv', parse_dates=['payment_date'])\n",
    "\n",
    "es = ft.EntitySet(id='loans')\n",
    "es = es.entity_from_dataframe(entity_id='loans', dataframe=loans, index='loan_id')\n",
    "\n",
    "features, feature_names = ft.dfs(entityset=es, target_entity='loans',\n",
    "                                 trans_primitives=['cum_sum'])\n",
    "features"
   ],
   "metadata": {
    "collapsed": false,
    "pycharm": {
     "name": "#%%\n"
    }
   }
  }
 ],
 "metadata": {
  "kernelspec": {
   "display_name": "Python 3",
   "language": "python",
   "name": "python3"
  },
  "language_info": {
   "codemirror_mode": {
    "name": "ipython",
    "version": 2
   },
   "file_extension": ".py",
   "mimetype": "text/x-python",
   "name": "python",
   "nbconvert_exporter": "python",
   "pygments_lexer": "ipython2",
   "version": "2.7.6"
  }
 },
 "nbformat": 4,
 "nbformat_minor": 0
}