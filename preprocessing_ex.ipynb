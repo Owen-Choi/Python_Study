{
 "cells": [
  {
   "cell_type": "code",
   "execution_count": 27,
   "metadata": {
    "collapsed": true
   },
   "outputs": [
    {
     "name": "stdout",
     "output_type": "stream",
     "text": [
      "Entityset: clients\n",
      "  Entities:\n",
      "  Relationships:\n",
      "    No relationships\n"
     ]
    }
   ],
   "source": [
    "import pandas as pd\n",
    "import numpy as np\n",
    "import featuretools as ft\n",
    "\n",
    "es = ft.EntitySet(id = 'clients')\n",
    "print(es)"
   ]
  },
  {
   "cell_type": "code",
   "execution_count": 28,
   "outputs": [],
   "source": [
    "clients = pd.read_csv('data/clients.csv', parse_dates = ['joined'])\n",
    "loans = pd.read_csv('data/loans.csv', parse_dates = ['loan_start', 'loan_end'])\n",
    "payments = pd.read_csv('data/payments.csv', parse_dates = ['payment_date'])"
   ],
   "metadata": {
    "collapsed": false,
    "pycharm": {
     "name": "#%%\n"
    }
   }
  },
  {
   "cell_type": "markdown",
   "source": [],
   "metadata": {
    "collapsed": false
   }
  },
  {
   "cell_type": "code",
   "execution_count": 29,
   "outputs": [
    {
     "name": "stdout",
     "output_type": "stream",
     "text": [
      "Entityset: clients\n",
      "  Entities:\n",
      "    clients [Rows: 25, Columns: 4]\n",
      "    loans [Rows: 443, Columns: 8]\n",
      "  Relationships:\n",
      "    No relationships\n"
     ]
    }
   ],
   "source": [
    "es = ft.EntitySet(id = 'clients')\n",
    "es = es.entity_from_dataframe(entity_id= 'clients', dataframe= clients, index = 'client_id', time_index='joined')\n",
    "es = es.entity_from_dataframe(entity_id= 'loans', dataframe= loans, index = 'loan_id')\n",
    "print(es)"
   ],
   "metadata": {
    "collapsed": false,
    "pycharm": {
     "name": "#%%\n"
    }
   }
  },
  {
   "cell_type": "code",
   "execution_count": 30,
   "outputs": [],
   "source": [
    "es = es.entity_from_dataframe(entity_id = 'payments',\n",
    "                              dataframe = payments,\n",
    "                              variable_types = {'missed': ft.variable_types.Categorical},\n",
    "                              make_index = True,\n",
    "                              index = 'payment_id',\n",
    "                              time_index = 'payment_date')"
   ],
   "metadata": {
    "collapsed": false,
    "pycharm": {
     "name": "#%%\n"
    }
   }
  },
  {
   "cell_type": "code",
   "execution_count": 31,
   "outputs": [
    {
     "name": "stdout",
     "output_type": "stream",
     "text": [
      "Entityset: clients\n",
      "  Entities:\n",
      "    clients [Rows: 25, Columns: 4]\n",
      "    loans [Rows: 443, Columns: 8]\n",
      "    payments [Rows: 3456, Columns: 5]\n",
      "  Relationships:\n",
      "    No relationships\n"
     ]
    }
   ],
   "source": [
    "print(es)\n",
    "# es['payments']"
   ],
   "metadata": {
    "collapsed": false,
    "pycharm": {
     "name": "#%%\n"
    }
   }
  },
  {
   "cell_type": "code",
   "execution_count": 32,
   "outputs": [
    {
     "data": {
      "text/plain": "Entityset: clients\n  Entities:\n    clients [Rows: 25, Columns: 4]\n    loans [Rows: 443, Columns: 8]\n    payments [Rows: 3456, Columns: 5]\n  Relationships:\n    loans.client_id -> clients.client_id\n    payments.loan_id -> loans.loan_id"
     },
     "execution_count": 32,
     "metadata": {},
     "output_type": "execute_result"
    }
   ],
   "source": [
    "# Relationship between clients and previous loans\n",
    "r_client_previous = ft.Relationship(es['clients']['client_id'],\n",
    "                                    es['loans']['client_id'])\n",
    "\n",
    "# Add the relationship to the entity set\n",
    "es = es.add_relationship(r_client_previous)\n",
    "\n",
    "# Relationship between previous loans and previous payments\n",
    "r_payments = ft.Relationship(es['loans']['loan_id'],\n",
    "                                      es['payments']['loan_id'])\n",
    "\n",
    "# Add the relationship to the entity set\n",
    "es = es.add_relationship(r_payments)\n",
    "\n",
    "es"
   ],
   "metadata": {
    "collapsed": false,
    "pycharm": {
     "name": "#%%\n"
    }
   }
  },
  {
   "cell_type": "code",
   "execution_count": null,
   "outputs": [],
   "source": [],
   "metadata": {
    "collapsed": false,
    "pycharm": {
     "name": "#%%\n"
    }
   }
  }
 ],
 "metadata": {
  "kernelspec": {
   "display_name": "Python 3",
   "language": "python",
   "name": "python3"
  },
  "language_info": {
   "codemirror_mode": {
    "name": "ipython",
    "version": 2
   },
   "file_extension": ".py",
   "mimetype": "text/x-python",
   "name": "python",
   "nbconvert_exporter": "python",
   "pygments_lexer": "ipython2",
   "version": "2.7.6"
  }
 },
 "nbformat": 4,
 "nbformat_minor": 0
}