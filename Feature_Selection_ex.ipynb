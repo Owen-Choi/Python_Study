{
 "cells": [
  {
   "cell_type": "code",
   "execution_count": 6,
   "metadata": {
    "collapsed": true
   },
   "outputs": [
    {
     "name": "stdout",
     "output_type": "stream",
     "text": [
      "            Specs          Score\n",
      "13            ram  931267.519053\n",
      "11      px_height   17363.569536\n",
      "0   battery_power   14129.866576\n",
      "12       px_width    9810.586750\n",
      "8       mobile_wt      95.972863\n",
      "6      int_memory      89.839124\n",
      "15           sc_w      16.480319\n",
      "16      talk_time      13.236400\n",
      "4              fc      10.135166\n",
      "14           sc_h       9.614878\n"
     ]
    }
   ],
   "source": [
    "import pandas as pd\n",
    "import numpy as np\n",
    "from sklearn.feature_selection import SelectKBest\n",
    "from sklearn.feature_selection import chi2\n",
    "from sklearn.preprocessing import OneHotEncoder\n",
    "from sklearn.preprocessing import OrdinalEncoder\n",
    "data = pd.read_csv('data/Mobile_data/train.csv')\n",
    "X = data.iloc[:,0:20] #independent columns\n",
    "y = data.iloc[:,-1] #target column, i.e., price range\n",
    "\n",
    "bestfeatures = SelectKBest(score_func=chi2, k=10)\n",
    "fit = bestfeatures.fit(X,y)             # bestfeatures에서 chi2를 쓰고, 10개를 골라낸다고 미리 선언해둔 뒤에 fit 함수를 통해서 ML?\n",
    "dfcolumns = pd.DataFrame(X.columns)\n",
    "dfscores = pd.DataFrame(fit.scores_)\n",
    "#concatenate two dataframes for better visualization\n",
    "featureScores = pd.concat([dfcolumns, dfscores],axis=1)\n",
    "featureScores.columns = ['Specs', 'Score']\n",
    "print(featureScores.nlargest(10,'Score'))"
   ]
  },
  {
   "cell_type": "code",
   "execution_count": 7,
   "outputs": [
    {
     "name": "stdout",
     "output_type": "stream",
     "text": [
      "[[-122.23   37.88   41.   ...    0.      1.      0.  ]\n",
      " [-122.22   37.86   21.   ...    0.      1.      0.  ]\n",
      " [-122.24   37.85   52.   ...    0.      1.      0.  ]\n",
      " ...\n",
      " [-121.22   39.43   17.   ...    0.      0.      0.  ]\n",
      " [-121.32   39.43   18.   ...    0.      0.      0.  ]\n",
      " [-121.24   39.37   16.   ...    0.      0.      0.  ]]\n"
     ]
    }
   ],
   "source": [
    "housing_data = pd.read_csv('data/California_Housing_Price/housing.csv')\n",
    "target_feature = housing_data.iloc[:, -2]\n",
    "independent_feature_first = housing_data.iloc[:, 0:8]\n",
    "need_encoding = housing_data.iloc[:, [-1]]\n",
    "one_hot_encoder = OneHotEncoder()\n",
    "after_one_hot = one_hot_encoder.fit_transform(need_encoding)\n",
    "# independent_feature = pd.concat([independent_feature_first, after_one_hot.toarray()], axis=1)    # independent\n",
    "independent_feature = np.c_[independent_feature_first, after_one_hot.toarray()]\n",
    "print(independent_feature)"
   ],
   "metadata": {
    "collapsed": false,
    "pycharm": {
     "name": "#%%\n"
    }
   }
  },
  {
   "cell_type": "code",
   "execution_count": 8,
   "outputs": [
    {
     "data": {
      "text/plain": "       longitude  latitude  housing_median_age  total_rooms  total_bedrooms  \\\n0        -122.23     37.88                41.0        880.0           129.0   \n1        -122.22     37.86                21.0       7099.0          1106.0   \n2        -122.24     37.85                52.0       1467.0           190.0   \n3        -122.25     37.85                52.0       1274.0           235.0   \n4        -122.25     37.85                52.0       1627.0           280.0   \n...          ...       ...                 ...          ...             ...   \n20635    -121.09     39.48                25.0       1665.0           374.0   \n20636    -121.21     39.49                18.0        697.0           150.0   \n20637    -121.22     39.43                17.0       2254.0           485.0   \n20638    -121.32     39.43                18.0       1860.0           409.0   \n20639    -121.24     39.37                16.0       2785.0           616.0   \n\n       population  households  median_income  median_house_value  \\\n0           322.0       126.0         8.3252            452600.0   \n1          2401.0      1138.0         8.3014            358500.0   \n2           496.0       177.0         7.2574            352100.0   \n3           558.0       219.0         5.6431            341300.0   \n4           565.0       259.0         3.8462            342200.0   \n...           ...         ...            ...                 ...   \n20635       845.0       330.0         1.5603             78100.0   \n20636       356.0       114.0         2.5568             77100.0   \n20637      1007.0       433.0         1.7000             92300.0   \n20638       741.0       349.0         1.8672             84700.0   \n20639      1387.0       530.0         2.3886             89400.0   \n\n      ocean_proximity  \n0            NEAR BAY  \n1            NEAR BAY  \n2            NEAR BAY  \n3            NEAR BAY  \n4            NEAR BAY  \n...               ...  \n20635          INLAND  \n20636          INLAND  \n20637          INLAND  \n20638          INLAND  \n20639          INLAND  \n\n[20640 rows x 10 columns]",
      "text/html": "<div>\n<style scoped>\n    .dataframe tbody tr th:only-of-type {\n        vertical-align: middle;\n    }\n\n    .dataframe tbody tr th {\n        vertical-align: top;\n    }\n\n    .dataframe thead th {\n        text-align: right;\n    }\n</style>\n<table border=\"1\" class=\"dataframe\">\n  <thead>\n    <tr style=\"text-align: right;\">\n      <th></th>\n      <th>longitude</th>\n      <th>latitude</th>\n      <th>housing_median_age</th>\n      <th>total_rooms</th>\n      <th>total_bedrooms</th>\n      <th>population</th>\n      <th>households</th>\n      <th>median_income</th>\n      <th>median_house_value</th>\n      <th>ocean_proximity</th>\n    </tr>\n  </thead>\n  <tbody>\n    <tr>\n      <th>0</th>\n      <td>-122.23</td>\n      <td>37.88</td>\n      <td>41.0</td>\n      <td>880.0</td>\n      <td>129.0</td>\n      <td>322.0</td>\n      <td>126.0</td>\n      <td>8.3252</td>\n      <td>452600.0</td>\n      <td>NEAR BAY</td>\n    </tr>\n    <tr>\n      <th>1</th>\n      <td>-122.22</td>\n      <td>37.86</td>\n      <td>21.0</td>\n      <td>7099.0</td>\n      <td>1106.0</td>\n      <td>2401.0</td>\n      <td>1138.0</td>\n      <td>8.3014</td>\n      <td>358500.0</td>\n      <td>NEAR BAY</td>\n    </tr>\n    <tr>\n      <th>2</th>\n      <td>-122.24</td>\n      <td>37.85</td>\n      <td>52.0</td>\n      <td>1467.0</td>\n      <td>190.0</td>\n      <td>496.0</td>\n      <td>177.0</td>\n      <td>7.2574</td>\n      <td>352100.0</td>\n      <td>NEAR BAY</td>\n    </tr>\n    <tr>\n      <th>3</th>\n      <td>-122.25</td>\n      <td>37.85</td>\n      <td>52.0</td>\n      <td>1274.0</td>\n      <td>235.0</td>\n      <td>558.0</td>\n      <td>219.0</td>\n      <td>5.6431</td>\n      <td>341300.0</td>\n      <td>NEAR BAY</td>\n    </tr>\n    <tr>\n      <th>4</th>\n      <td>-122.25</td>\n      <td>37.85</td>\n      <td>52.0</td>\n      <td>1627.0</td>\n      <td>280.0</td>\n      <td>565.0</td>\n      <td>259.0</td>\n      <td>3.8462</td>\n      <td>342200.0</td>\n      <td>NEAR BAY</td>\n    </tr>\n    <tr>\n      <th>...</th>\n      <td>...</td>\n      <td>...</td>\n      <td>...</td>\n      <td>...</td>\n      <td>...</td>\n      <td>...</td>\n      <td>...</td>\n      <td>...</td>\n      <td>...</td>\n      <td>...</td>\n    </tr>\n    <tr>\n      <th>20635</th>\n      <td>-121.09</td>\n      <td>39.48</td>\n      <td>25.0</td>\n      <td>1665.0</td>\n      <td>374.0</td>\n      <td>845.0</td>\n      <td>330.0</td>\n      <td>1.5603</td>\n      <td>78100.0</td>\n      <td>INLAND</td>\n    </tr>\n    <tr>\n      <th>20636</th>\n      <td>-121.21</td>\n      <td>39.49</td>\n      <td>18.0</td>\n      <td>697.0</td>\n      <td>150.0</td>\n      <td>356.0</td>\n      <td>114.0</td>\n      <td>2.5568</td>\n      <td>77100.0</td>\n      <td>INLAND</td>\n    </tr>\n    <tr>\n      <th>20637</th>\n      <td>-121.22</td>\n      <td>39.43</td>\n      <td>17.0</td>\n      <td>2254.0</td>\n      <td>485.0</td>\n      <td>1007.0</td>\n      <td>433.0</td>\n      <td>1.7000</td>\n      <td>92300.0</td>\n      <td>INLAND</td>\n    </tr>\n    <tr>\n      <th>20638</th>\n      <td>-121.32</td>\n      <td>39.43</td>\n      <td>18.0</td>\n      <td>1860.0</td>\n      <td>409.0</td>\n      <td>741.0</td>\n      <td>349.0</td>\n      <td>1.8672</td>\n      <td>84700.0</td>\n      <td>INLAND</td>\n    </tr>\n    <tr>\n      <th>20639</th>\n      <td>-121.24</td>\n      <td>39.37</td>\n      <td>16.0</td>\n      <td>2785.0</td>\n      <td>616.0</td>\n      <td>1387.0</td>\n      <td>530.0</td>\n      <td>2.3886</td>\n      <td>89400.0</td>\n      <td>INLAND</td>\n    </tr>\n  </tbody>\n</table>\n<p>20640 rows × 10 columns</p>\n</div>"
     },
     "execution_count": 8,
     "metadata": {},
     "output_type": "execute_result"
    }
   ],
   "source": [
    "housing_data"
   ],
   "metadata": {
    "collapsed": false,
    "pycharm": {
     "name": "#%%\n"
    }
   }
  },
  {
   "cell_type": "code",
   "execution_count": 20,
   "outputs": [
    {
     "data": {
      "text/plain": "                     0             0\n0             latitude  5.908905e+02\n1   housing_median_age  2.319302e+04\n2          total_rooms  9.772920e+06\n3       total_bedrooms  1.437937e+06\n4           population  3.988363e+06\n5           households  1.303777e+06\n6        median_income  1.171746e+04\n7            <1H OCEAN  3.746993e+03\n8               INLAND  6.565265e+03\n9               ISLAND  1.828133e+03\n10            NEAR BAY  4.079131e+03\n11          NEAR OCEAN  3.993245e+03",
      "text/html": "<div>\n<style scoped>\n    .dataframe tbody tr th:only-of-type {\n        vertical-align: middle;\n    }\n\n    .dataframe tbody tr th {\n        vertical-align: top;\n    }\n\n    .dataframe thead th {\n        text-align: right;\n    }\n</style>\n<table border=\"1\" class=\"dataframe\">\n  <thead>\n    <tr style=\"text-align: right;\">\n      <th></th>\n      <th>0</th>\n      <th>0</th>\n    </tr>\n  </thead>\n  <tbody>\n    <tr>\n      <th>0</th>\n      <td>latitude</td>\n      <td>5.908905e+02</td>\n    </tr>\n    <tr>\n      <th>1</th>\n      <td>housing_median_age</td>\n      <td>2.319302e+04</td>\n    </tr>\n    <tr>\n      <th>2</th>\n      <td>total_rooms</td>\n      <td>9.772920e+06</td>\n    </tr>\n    <tr>\n      <th>3</th>\n      <td>total_bedrooms</td>\n      <td>1.437937e+06</td>\n    </tr>\n    <tr>\n      <th>4</th>\n      <td>population</td>\n      <td>3.988363e+06</td>\n    </tr>\n    <tr>\n      <th>5</th>\n      <td>households</td>\n      <td>1.303777e+06</td>\n    </tr>\n    <tr>\n      <th>6</th>\n      <td>median_income</td>\n      <td>1.171746e+04</td>\n    </tr>\n    <tr>\n      <th>7</th>\n      <td>&lt;1H OCEAN</td>\n      <td>3.746993e+03</td>\n    </tr>\n    <tr>\n      <th>8</th>\n      <td>INLAND</td>\n      <td>6.565265e+03</td>\n    </tr>\n    <tr>\n      <th>9</th>\n      <td>ISLAND</td>\n      <td>1.828133e+03</td>\n    </tr>\n    <tr>\n      <th>10</th>\n      <td>NEAR BAY</td>\n      <td>4.079131e+03</td>\n    </tr>\n    <tr>\n      <th>11</th>\n      <td>NEAR OCEAN</td>\n      <td>3.993245e+03</td>\n    </tr>\n  </tbody>\n</table>\n</div>"
     },
     "execution_count": 20,
     "metadata": {},
     "output_type": "execute_result"
    }
   ],
   "source": [
    "import pandas as pd\n",
    "import numpy as np\n",
    "from sklearn.feature_selection import SelectKBest\n",
    "from sklearn.feature_selection import chi2\n",
    "from sklearn.preprocessing import OneHotEncoder\n",
    "from sklearn.preprocessing import OrdinalEncoder\n",
    "housing_data = pd.read_csv('data/California_Housing_Price/housing.csv')\n",
    "target_feature = housing_data.iloc[:, -2]\n",
    "independent_feature_first = housing_data.iloc[:, 0:8]\n",
    "need_encoding = housing_data.iloc[:, [-1]]\n",
    "# sparse=False로 지정해주어야 우리가 원하는 예쁜 그림이 나온다.\n",
    "one_hot_encoder = OneHotEncoder(sparse=False)\n",
    "after_onehot = one_hot_encoder.fit(need_encoding)\n",
    "independent_feature_second = pd.DataFrame(one_hot_encoder.transform(need_encoding), columns=one_hot_encoder.categories_[0]) # 핵심 코드\n",
    "independent_feature = pd.concat([independent_feature_first, independent_feature_second], axis=1)    # independent feature\n",
    "independent_feature = independent_feature.fillna(0)\n",
    "# 여기까지 one hot encoding은 완료되었다.\n",
    "# independent_feature = one_hot_encoder.fit_transform(independent_feature)\n",
    "# 왜 drop이 안되는거지? longitude를 drop해야 하는데\n",
    "independent_feature.drop('longitude', axis='columns', inplace=True)\n",
    "bestfeatures = SelectKBest(score_func=chi2, k=10)\n",
    "fit = bestfeatures.fit(independent_feature, target_feature)\n",
    "dfcolumns = pd.DataFrame(independent_feature.columns)\n",
    "dfscores = pd.DataFrame(fit.scores_)\n",
    "featureScores = pd.concat([dfcolumns, dfscores],axis=1)\n",
    "featureScores"
   ],
   "metadata": {
    "collapsed": false,
    "pycharm": {
     "name": "#%%\n"
    }
   }
  }
 ],
 "metadata": {
  "kernelspec": {
   "display_name": "Python 3",
   "language": "python",
   "name": "python3"
  },
  "language_info": {
   "codemirror_mode": {
    "name": "ipython",
    "version": 2
   },
   "file_extension": ".py",
   "mimetype": "text/x-python",
   "name": "python",
   "nbconvert_exporter": "python",
   "pygments_lexer": "ipython2",
   "version": "2.7.6"
  }
 },
 "nbformat": 4,
 "nbformat_minor": 0
}